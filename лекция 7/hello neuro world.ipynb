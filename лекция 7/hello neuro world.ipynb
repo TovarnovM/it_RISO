{
 "cells": [
  {
   "cell_type": "code",
   "execution_count": null,
   "metadata": {},
   "outputs": [],
   "source": [
    "import torch as T\n",
    "from tqdm.notebook import tqdm\n",
    "import torchvision\n",
    "from torchvision import transforms, datasets\n",
    "\n",
    "train = datasets.MNIST('', train=True, download=True,\n",
    "                       transform=transforms.Compose([\n",
    "                           transforms.ToTensor()\n",
    "                       ]))\n",
    "\n",
    "test = datasets.MNIST('', train=False, download=True,\n",
    "                       transform=transforms.Compose([\n",
    "                           transforms.ToTensor()\n",
    "                       ]))"
   ]
  },
  {
   "cell_type": "code",
   "execution_count": null,
   "metadata": {},
   "outputs": [],
   "source": [
    "trainset = T.utils.data.DataLoader(train, batch_size=128, shuffle=True)\n",
    "testset = T.utils.data.DataLoader(test, batch_size=512, shuffle=False)"
   ]
  },
  {
   "cell_type": "code",
   "execution_count": null,
   "metadata": {},
   "outputs": [],
   "source": [
    "for data in trainset:\n",
    "    print(data)\n",
    "    break"
   ]
  },
  {
   "cell_type": "code",
   "execution_count": null,
   "metadata": {},
   "outputs": [],
   "source": [
    "import matplotlib.pyplot as plt\n",
    "%matplotlib inline"
   ]
  },
  {
   "cell_type": "code",
   "execution_count": null,
   "metadata": {},
   "outputs": [],
   "source": [
    "from ipywidgets import interact, IntSlider\n",
    "\n",
    "@interact(i=IntSlider(min=0, max=len(data[0])-1, step=1, value=0))\n",
    "def plot_data(i):\n",
    "    x, y = data[0][i], data[1][i]\n",
    "\n",
    "    plt.imshow(x.view(28, 28), cmap='gray')\n",
    "    plt.title(f'это {y.item()}')\n",
    "    plt.show()"
   ]
  },
  {
   "cell_type": "code",
   "execution_count": null,
   "metadata": {},
   "outputs": [],
   "source": [
    "from collections import Counter"
   ]
  },
  {
   "cell_type": "code",
   "execution_count": null,
   "metadata": {},
   "outputs": [],
   "source": [
    "counter_dict = Counter(range(10))\n",
    "total = 0\n",
    "for data in tqdm(trainset):\n",
    "    xs, ys = data\n",
    "    for y in ys:\n",
    "        counter_dict[int(y)] += 1\n",
    "        total += 1"
   ]
  },
  {
   "cell_type": "code",
   "execution_count": null,
   "metadata": {},
   "outputs": [],
   "source": [
    "counter_dict"
   ]
  },
  {
   "cell_type": "code",
   "execution_count": null,
   "metadata": {},
   "outputs": [],
   "source": [
    "for i in counter_dict:\n",
    "    print(f'{i}: {counter_dict[i]/total*100 :>5.2f} %')"
   ]
  },
  {
   "cell_type": "code",
   "execution_count": null,
   "metadata": {},
   "outputs": [],
   "source": [
    "import torch.nn as nn\n",
    "import torch.nn.functional as F"
   ]
  },
  {
   "cell_type": "code",
   "execution_count": null,
   "metadata": {},
   "outputs": [],
   "source": [
    "class MyFirstNet(nn.Module):\n",
    "    def __init__(self):\n",
    "        super().__init__()\n",
    "        self.fc1 = nn.Linear(28*28, 128)\n",
    "        self.fc2 = nn.Linear(128, 64)\n",
    "        self.fc3 = nn.Linear(64, 64)\n",
    "        self.fc4 = nn.Linear(64, 10)\n",
    "        \n",
    "    def forward(self, x):\n",
    "        x = x.view(-1, 28*28)\n",
    "        x = F.relu(self.fc1(x))\n",
    "        x = F.relu(self.fc2(x))\n",
    "        x = F.relu(self.fc3(x))\n",
    "        x = self.fc4(x)\n",
    "        return F.log_softmax(x, dim=1)\n",
    "    \n",
    "    def paint_and_guess(self, x):\n",
    "        with T.no_grad():\n",
    "            guess = self.forward(x)\n",
    "            plt.imshow(x.view(28, 28), cmap='gray')\n",
    "            plt.title(f'Моя сеть утверждает, что это {T.argmax(guess)}')\n",
    "            plt.show()\n",
    "        \n",
    "net = MyFirstNet()\n",
    "print(net)"
   ]
  },
  {
   "cell_type": "code",
   "execution_count": null,
   "metadata": {},
   "outputs": [],
   "source": [
    "x = T.rand((3, 28, 28))\n",
    "net(x)"
   ]
  },
  {
   "cell_type": "code",
   "execution_count": null,
   "metadata": {},
   "outputs": [],
   "source": [
    "x = T.rand((28, 28))\n",
    "net.paint_and_guess(x)"
   ]
  },
  {
   "cell_type": "code",
   "execution_count": null,
   "metadata": {},
   "outputs": [],
   "source": [
    "for n in net.parameters():\n",
    "    print(n)"
   ]
  },
  {
   "cell_type": "code",
   "execution_count": null,
   "metadata": {},
   "outputs": [],
   "source": [
    "sum([p.numel() for p in net.parameters()])"
   ]
  },
  {
   "cell_type": "code",
   "execution_count": null,
   "metadata": {},
   "outputs": [],
   "source": [
    "import torch.optim as optim\n",
    "\n",
    "net = MyFirstNet()\n",
    "\n",
    "optimizer = optim.Adam(net.parameters(), lr=0.001)\n",
    "loss_function = nn.CrossEntropyLoss()\n",
    "\n",
    "train_losses = []\n",
    "train_acc = []\n",
    "test_acc = []"
   ]
  },
  {
   "cell_type": "code",
   "execution_count": null,
   "metadata": {},
   "outputs": [],
   "source": [
    "for epoch in tqdm(range(3)): \n",
    "    for data in tqdm(trainset): \n",
    "        X, y = data \n",
    "        net.zero_grad()  \n",
    "        output = net(X)  \n",
    "        loss = loss_function(output, y)  \n",
    "        loss.backward()  \n",
    "        optimizer.step() \n",
    "    train_losses.append(loss.item())\n",
    "    \n",
    "    with T.no_grad():\n",
    "        correct = 0\n",
    "        total = 0\n",
    "        for data in trainset:\n",
    "            X, y = data\n",
    "            output = net(X)\n",
    "            output = output\n",
    "            for idx, i in enumerate(output):\n",
    "                if T.argmax(i) == y[idx]:\n",
    "                    correct += 1\n",
    "                total += 1\n",
    "        train_acc.append(correct/total)\n",
    "        correct = 0\n",
    "        total = 0\n",
    "        for data in testset:\n",
    "            X, y = data\n",
    "            output = net(X)\n",
    "            output = output\n",
    "            for idx, i in enumerate(output):\n",
    "                if T.argmax(i) == y[idx]:\n",
    "                    correct += 1\n",
    "                total += 1\n",
    "        test_acc.append(correct/total)\n",
    "    "
   ]
  },
  {
   "cell_type": "code",
   "execution_count": null,
   "metadata": {},
   "outputs": [],
   "source": [
    "import numpy as np\n",
    "\n",
    "# train_losses = []\n",
    "\n",
    "plt.plot(np.array(train_acc)*100, label='Точность тренеровочного сета, %')\n",
    "plt.plot(np.array(test_acc)*100, label='Точность тестового сета, %')\n",
    "plt.grid()\n",
    "plt.legend()\n",
    "plt.show()"
   ]
  },
  {
   "cell_type": "code",
   "execution_count": null,
   "metadata": {},
   "outputs": [],
   "source": [
    "correct = 0\n",
    "total = 0\n",
    "\n",
    "wrongs = []\n",
    "rights = []\n",
    "with T.no_grad():\n",
    "    for data in tqdm(testset):\n",
    "        X, y = data\n",
    "        output = net(X)\n",
    "        \n",
    "        output = output\n",
    "        for idx, i in enumerate(output):\n",
    "            #print(torch.argmax(i), y[idx])\n",
    "            if T.argmax(i) == y[idx]:\n",
    "                correct += 1\n",
    "                rights.append((X[idx], y[idx]))\n",
    "            else:\n",
    "                wrongs.append((X[idx], y[idx]))\n",
    "            total += 1\n",
    "\n",
    "print(\"Accuracy: \", round(correct/total, 3))"
   ]
  },
  {
   "cell_type": "code",
   "execution_count": null,
   "metadata": {},
   "outputs": [],
   "source": [
    "len(wrongs)"
   ]
  },
  {
   "cell_type": "code",
   "execution_count": null,
   "metadata": {},
   "outputs": [],
   "source": [
    "from ipywidgets import interact, IntSlider\n",
    "\n",
    "@interact(i=IntSlider(min=0, max=len(wrongs)-1, step=1, value=0))\n",
    "def print_wrongs(i):    \n",
    "    right_answ = wrongs[i][1]\n",
    "    print(f'Правильный ответ {right_answ.item()}')\n",
    "    net.paint_and_guess(wrongs[i][0])"
   ]
  },
  {
   "cell_type": "code",
   "execution_count": null,
   "metadata": {},
   "outputs": [],
   "source": [
    "@interact(i=IntSlider(min=0, max=len(rights)-1, step=10, value=0))\n",
    "def print_rights(i):    \n",
    "    right_answ = rights[i][1]\n",
    "    print(f'Правильный ответ {right_answ.item()}')\n",
    "    net.paint_and_guess(rights[i][0])"
   ]
  },
  {
   "cell_type": "markdown",
   "metadata": {},
   "source": [
    ".\n",
    "\n",
    ".\n",
    "\n",
    ".\n",
    "\n",
    ".\n",
    "\n",
    ".\n",
    "\n",
    ".\n",
    "\n",
    ".\n",
    "\n",
    ".\n",
    "\n",
    ".\n",
    "\n",
    ".\n",
    "\n",
    ".\n",
    "\n",
    "\n",
    ".\n",
    "\n",
    ".\n",
    "\n",
    ".\n",
    "\n",
    ".\n",
    "\n",
    "\n",
    ".\n",
    "\n",
    "\n",
    ".\n",
    "\n",
    "\n",
    ".\n",
    "\n",
    "\n",
    ".\n",
    "\n",
    "\n",
    "\n",
    "\n",
    "\n",
    "\n",
    "\n",
    "\n",
    "\n",
    "\n",
    "\n",
    "\n",
    "\n",
    "\n",
    "\n",
    "\n",
    "\n",
    "![](data:image/jpeg;base64,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)"
   ]
  }
 ],
 "metadata": {
  "kernelspec": {
   "display_name": "Python 3",
   "language": "python",
   "name": "python3"
  },
  "language_info": {
   "codemirror_mode": {
    "name": "ipython",
    "version": 3
   },
   "file_extension": ".py",
   "mimetype": "text/x-python",
   "name": "python",
   "nbconvert_exporter": "python",
   "pygments_lexer": "ipython3",
   "version": "3.8.5"
  }
 },
 "nbformat": 4,
 "nbformat_minor": 4
}
