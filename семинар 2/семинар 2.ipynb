{
 "cells": [
  {
   "cell_type": "markdown",
   "metadata": {},
   "source": [
    "### Скачать этот семинар до 30 сентября можно по ссылке\n",
    "\n",
    "https://dropmefiles.com/dxqR2\n",
    "\n",
    "![](pics/frame.png)"
   ]
  },
  {
   "cell_type": "markdown",
   "metadata": {},
   "source": [
    "Текст и информация в документе может быть выделены цветом.\n",
    " - <span style=\"background-color:lightgreen\">зеленым</span> выделены вопросы, которые обязательны для изучения (на троечку);\n",
    " - <span style=\"background-color:orange\">оранжевым</span> выделены вопросы повышенной сложности, интересные нюансы (на четверочку);\n",
    " - <span style=\"background-color:LIGHTCORAL\">красным</span> выделены сложные вопросы, рекомендуемые для самостоятельного изучения (на пятерочку)."
   ]
  },
  {
   "cell_type": "markdown",
   "metadata": {},
   "source": [
    "### Словари\n",
    "\n",
    "_Словарь_ (*dict*) позволяет создавать коллекцию объектов любого вида. Однако для выбора _значений_ (*values*) из коллекции используются не индексы, а *ключи* (*keys*)\n",
    "\n",
    "![Словарь](pics/dct.png 'Ключи и значения в словаре')\n",
    "\n",
    "Ключом может быть любой неизменяемый объект. Значение может быть любым объектом."
   ]
  },
  {
   "cell_type": "code",
   "execution_count": null,
   "metadata": {},
   "outputs": [],
   "source": [
    "mydict = {\n",
    "    'звери': 11,\n",
    "        1.0: '2'\n",
    "}"
   ]
  },
  {
   "cell_type": "code",
   "execution_count": null,
   "metadata": {},
   "outputs": [],
   "source": [
    "mydict['звери']"
   ]
  },
  {
   "cell_type": "code",
   "execution_count": null,
   "metadata": {},
   "outputs": [],
   "source": [
    "mydict[1.0]"
   ]
  },
  {
   "cell_type": "code",
   "execution_count": null,
   "metadata": {},
   "outputs": [],
   "source": [
    "mydict[1.0] = '333'\n",
    "mydict"
   ]
  },
  {
   "cell_type": "code",
   "execution_count": null,
   "metadata": {},
   "outputs": [],
   "source": [
    "mydict['незвери']"
   ]
  },
  {
   "cell_type": "code",
   "execution_count": null,
   "metadata": {},
   "outputs": [],
   "source": [
    "a = mydict.get('незвери')\n",
    "print(a)"
   ]
  },
  {
   "cell_type": "code",
   "execution_count": null,
   "metadata": {},
   "outputs": [],
   "source": [
    "a = mydict.get('незвери', 'значение по-умолчанию')\n",
    "print(a)"
   ]
  },
  {
   "cell_type": "code",
   "execution_count": null,
   "metadata": {},
   "outputs": [],
   "source": [
    "a = mydict.get('звери', 'значение по-умолчанию')\n",
    "print(a)"
   ]
  },
  {
   "cell_type": "code",
   "execution_count": null,
   "metadata": {},
   "outputs": [],
   "source": [
    "mydict['33'] = '44'\n",
    "mydict"
   ]
  },
  {
   "cell_type": "code",
   "execution_count": null,
   "metadata": {},
   "outputs": [],
   "source": [
    "len(mydict)"
   ]
  },
  {
   "cell_type": "code",
   "execution_count": null,
   "metadata": {},
   "outputs": [],
   "source": [
    "mydict.pop('33')"
   ]
  },
  {
   "cell_type": "code",
   "execution_count": null,
   "metadata": {},
   "outputs": [],
   "source": [
    "mydict"
   ]
  },
  {
   "cell_type": "code",
   "execution_count": null,
   "metadata": {},
   "outputs": [],
   "source": [
    "len(mydict)"
   ]
  },
  {
   "cell_type": "code",
   "execution_count": null,
   "metadata": {},
   "outputs": [],
   "source": [
    "mydict.keys()"
   ]
  },
  {
   "cell_type": "code",
   "execution_count": null,
   "metadata": {},
   "outputs": [],
   "source": [
    "mydict.values()"
   ]
  },
  {
   "cell_type": "code",
   "execution_count": null,
   "metadata": {},
   "outputs": [],
   "source": [
    "list(mydict.keys())"
   ]
  },
  {
   "cell_type": "markdown",
   "metadata": {},
   "source": [
    "### <span style=\"background-color:lightcoral\">Остальные коллекции</span>\n",
    "\n",
    "Самостоятельно посмотрите про `set` , `frozen set`"
   ]
  },
  {
   "cell_type": "markdown",
   "metadata": {},
   "source": [
    "# <span style=\"background-color:lightgreen\">Циклы</span>\n",
    "\n",
    "### Цикл while\n",
    "`While` - один из самых универсальных циклов в Python, поэтому довольно медленный. Выполняет тело цикла до тех пор, пока условие цикла истинно."
   ]
  },
  {
   "cell_type": "code",
   "execution_count": null,
   "metadata": {},
   "outputs": [],
   "source": [
    "i = 5\n",
    "while i < 15:\n",
    "    print(i)\n",
    "    i = i + 2"
   ]
  },
  {
   "cell_type": "code",
   "execution_count": null,
   "metadata": {},
   "outputs": [],
   "source": [
    "i = 15\n",
    "while i < 15:\n",
    "    print(i)\n",
    "    i = i + 2"
   ]
  },
  {
   "cell_type": "markdown",
   "metadata": {},
   "source": [
    "### Цикл for\n",
    "Этот цикл проходится по любому итерируемому объекту (например строке или списку), и во время каждого прохода выполняет тело цикла."
   ]
  },
  {
   "cell_type": "code",
   "execution_count": null,
   "metadata": {},
   "outputs": [],
   "source": [
    "lst = ['1', '22', None, '55']\n",
    "for v in lst:\n",
    "    print(v)"
   ]
  },
  {
   "cell_type": "code",
   "execution_count": null,
   "metadata": {},
   "outputs": [],
   "source": [
    "for i in range(5):\n",
    "    a = i**2\n",
    "    print(a)"
   ]
  },
  {
   "cell_type": "code",
   "execution_count": null,
   "metadata": {},
   "outputs": [],
   "source": [
    "for i in range(len(lst)):\n",
    "    print(lst[i])"
   ]
  },
  {
   "cell_type": "code",
   "execution_count": null,
   "metadata": {},
   "outputs": [],
   "source": [
    "for i in range(3,7):\n",
    "    a = i\n",
    "    print(a)"
   ]
  },
  {
   "cell_type": "code",
   "execution_count": null,
   "metadata": {},
   "outputs": [],
   "source": [
    "for i in range(3,8,2):\n",
    "    a = i\n",
    "    print(a)"
   ]
  },
  {
   "cell_type": "code",
   "execution_count": null,
   "metadata": {},
   "outputs": [],
   "source": [
    "for i in range(8,3,-1):\n",
    "    a = i\n",
    "    print(a)"
   ]
  },
  {
   "cell_type": "code",
   "execution_count": null,
   "metadata": {},
   "outputs": [],
   "source": [
    "for i in range(8,3,-2):\n",
    "    a = i\n",
    "    print(a)"
   ]
  },
  {
   "cell_type": "code",
   "execution_count": null,
   "metadata": {},
   "outputs": [],
   "source": [
    "for c in 'Строка':\n",
    "    print(c*2)"
   ]
  },
  {
   "cell_type": "code",
   "execution_count": null,
   "metadata": {},
   "outputs": [],
   "source": [
    "dct = {'a': 1, 'b':2, 'c':'99'}\n",
    "for k in dct:\n",
    "    print(k)"
   ]
  },
  {
   "cell_type": "code",
   "execution_count": null,
   "metadata": {},
   "outputs": [],
   "source": [
    "for k in dct:\n",
    "    print(dct[k])"
   ]
  },
  {
   "cell_type": "code",
   "execution_count": null,
   "metadata": {},
   "outputs": [],
   "source": [
    "for v in dct.values():\n",
    "    print(v)"
   ]
  },
  {
   "cell_type": "code",
   "execution_count": null,
   "metadata": {},
   "outputs": [],
   "source": [
    "for tp in dct.items():\n",
    "    k, v = tp\n",
    "    print(k, v)"
   ]
  },
  {
   "cell_type": "code",
   "execution_count": null,
   "metadata": {},
   "outputs": [],
   "source": [
    "for k, v in dct.items():\n",
    "    print(k, v)"
   ]
  },
  {
   "cell_type": "code",
   "execution_count": null,
   "metadata": {},
   "outputs": [],
   "source": [
    "# не Pythonic-way ((\n",
    "lst = ['1', '22', None, '55']\n",
    "for i in range(len(lst)):\n",
    "    print(f'index {i} -> value {lst[i]}')"
   ]
  },
  {
   "cell_type": "code",
   "execution_count": null,
   "metadata": {},
   "outputs": [],
   "source": [
    "# good\n",
    "lst = ['1', '22', None, '55']\n",
    "for i, v in enumerate(lst):\n",
    "    print(f'index {i} -> value {v}')"
   ]
  },
  {
   "cell_type": "code",
   "execution_count": null,
   "metadata": {},
   "outputs": [],
   "source": [
    "lst = []\n",
    "for i in range(5):\n",
    "    val = str(i*2)\n",
    "    lst.append(val)\n",
    "lst"
   ]
  },
  {
   "cell_type": "code",
   "execution_count": null,
   "metadata": {},
   "outputs": [],
   "source": [
    "lst = []\n",
    "for i in range(5):\n",
    "    val = str(i*2)\n",
    "    if i > 2:\n",
    "        lst.append(val)\n",
    "lst"
   ]
  },
  {
   "cell_type": "code",
   "execution_count": null,
   "metadata": {},
   "outputs": [],
   "source": [
    "l1 = [1,2,3,4]\n",
    "l2 = [5,6,7,8,9]\n",
    "for a, b in zip(l2, l1):\n",
    "    print(a, b)"
   ]
  },
  {
   "cell_type": "markdown",
   "metadata": {},
   "source": [
    "### <span style=\"background-color:orange\">Чуть более продвинутое создание коллекций</span>"
   ]
  },
  {
   "cell_type": "code",
   "execution_count": null,
   "metadata": {},
   "outputs": [],
   "source": [
    "lst = [str(i*2) for i in range(5)]\n",
    "lst"
   ]
  },
  {
   "cell_type": "code",
   "execution_count": null,
   "metadata": {},
   "outputs": [],
   "source": [
    "lst = [str(i*2) for i in range(5) if i > 2]\n",
    "lst\n"
   ]
  },
  {
   "cell_type": "code",
   "execution_count": null,
   "metadata": {},
   "outputs": [],
   "source": [
    "def foo(j):\n",
    "    return f'{j*3}'\n",
    "\n",
    "lst = [foo(i) for i in range(5) if i < 3]\n",
    "lst"
   ]
  },
  {
   "cell_type": "code",
   "execution_count": null,
   "metadata": {},
   "outputs": [],
   "source": [
    "dct = {i*2: foo(i) for i in range(7) if i < 3}\n",
    "dct"
   ]
  },
  {
   "cell_type": "code",
   "execution_count": null,
   "metadata": {},
   "outputs": [],
   "source": [
    "something = (foo(i) for i in range(5) if i < 3)\n",
    "type(something)"
   ]
  },
  {
   "cell_type": "code",
   "execution_count": null,
   "metadata": {},
   "outputs": [],
   "source": [
    "for s in something:\n",
    "    print(s)"
   ]
  },
  {
   "cell_type": "code",
   "execution_count": null,
   "metadata": {},
   "outputs": [],
   "source": [
    "list(something)"
   ]
  },
  {
   "cell_type": "code",
   "execution_count": null,
   "metadata": {},
   "outputs": [],
   "source": [
    "something = (foo(i) for i in range(5) if i < 3)\n",
    "list(something)"
   ]
  },
  {
   "cell_type": "code",
   "execution_count": null,
   "metadata": {},
   "outputs": [],
   "source": [
    "something = (foo(i) for i in range(5) if i < 3)\n",
    "tuple(something)"
   ]
  },
  {
   "cell_type": "markdown",
   "metadata": {},
   "source": []
  },
  {
   "cell_type": "markdown",
   "metadata": {},
   "source": [
    "### Оператор continue\n",
    "Оператор `continue` начинает следующий проход цикла, минуя оставшееся тело цикла (for или while)"
   ]
  },
  {
   "cell_type": "code",
   "execution_count": null,
   "metadata": {},
   "outputs": [],
   "source": [
    "for i in 'hello world':\n",
    "    if i == 'o':\n",
    "        continue\n",
    "    print(i * 2)"
   ]
  },
  {
   "cell_type": "code",
   "execution_count": null,
   "metadata": {},
   "outputs": [],
   "source": [
    "for i in 'hello world':\n",
    "    if i == 'o':\n",
    "        continue\n",
    "    print(i * 2, end='')"
   ]
  },
  {
   "cell_type": "markdown",
   "metadata": {},
   "source": [
    "### Оператор break\n",
    "Оператор `break` досрочно прерывает цикл."
   ]
  },
  {
   "cell_type": "code",
   "execution_count": null,
   "metadata": {},
   "outputs": [],
   "source": [
    "for i in 'hello world':\n",
    "    if i == 'o':\n",
    "        break\n",
    "    print(i * 2, end='')"
   ]
  },
  {
   "cell_type": "markdown",
   "metadata": {},
   "source": [
    "### <span style=\"background-color:orange\">Слово else после цикла</span>\n",
    "Слово `else`, примененное в цикле `for` или `while`, проверяет, был ли произведен выход из цикла инструкцией `break`, или же \"естественным\" образом. Блок инструкций внутри `else` выполнится только в том случае, если выход из цикла произошел без помощи `break`."
   ]
  },
  {
   "cell_type": "code",
   "execution_count": null,
   "metadata": {},
   "outputs": [],
   "source": [
    "for i in 'hello world':\n",
    "    if i == 'a':\n",
    "        break\n",
    "else:\n",
    "    print('Буквы a в строке нет')"
   ]
  },
  {
   "cell_type": "code",
   "execution_count": null,
   "metadata": {},
   "outputs": [],
   "source": [
    "for i in 'hello world':\n",
    "    if i == 'w':\n",
    "        break\n",
    "else:\n",
    "    print('Буквы a в строке нет')"
   ]
  },
  {
   "cell_type": "markdown",
   "metadata": {},
   "source": [
    "### <span style=\"background-color:orange\">Еще о функциях</span>"
   ]
  },
  {
   "cell_type": "code",
   "execution_count": null,
   "metadata": {},
   "outputs": [],
   "source": [
    "def foo(a,b=10):\n",
    "    print(a+b)\n",
    "    \n",
    "foo(1)"
   ]
  },
  {
   "cell_type": "code",
   "execution_count": null,
   "metadata": {},
   "outputs": [],
   "source": [
    "foo(1,13)"
   ]
  },
  {
   "cell_type": "code",
   "execution_count": null,
   "metadata": {},
   "outputs": [],
   "source": [
    "def foo(a, b, *args):\n",
    "    print(a+b)\n",
    "    print(args)\n",
    "\n",
    "foo(1,2)"
   ]
  },
  {
   "cell_type": "code",
   "execution_count": null,
   "metadata": {},
   "outputs": [],
   "source": [
    "foo(1,2,3,4,5)"
   ]
  },
  {
   "cell_type": "code",
   "execution_count": null,
   "metadata": {},
   "outputs": [],
   "source": [
    "def foo(a,b,**kwargs):\n",
    "    print(a, b)\n",
    "    print(kwargs)"
   ]
  },
  {
   "cell_type": "code",
   "execution_count": null,
   "metadata": {},
   "outputs": [],
   "source": [
    "foo(1,2)"
   ]
  },
  {
   "cell_type": "code",
   "execution_count": null,
   "metadata": {},
   "outputs": [],
   "source": [
    "foo(1,2, c=10, d=34)"
   ]
  },
  {
   "cell_type": "code",
   "execution_count": null,
   "metadata": {},
   "outputs": [],
   "source": [
    "def foo(a, b, *args, **kwargs):\n",
    "    print(a)\n",
    "    print(b)\n",
    "    print(args)\n",
    "    print(kwargs)\n",
    "    \n",
    "foo(1,2,3,4,c=5,d=6)"
   ]
  },
  {
   "cell_type": "markdown",
   "metadata": {},
   "source": [
    "### <span style=\"background-color:LIGHTCORAL\">Еще о функциях</span>"
   ]
  },
  {
   "cell_type": "code",
   "execution_count": null,
   "metadata": {},
   "outputs": [],
   "source": [
    "tp = (1,2,3,4,5)\n",
    "foo(*tp)"
   ]
  },
  {
   "cell_type": "code",
   "execution_count": null,
   "metadata": {},
   "outputs": [],
   "source": [
    "dct = {'c':'44', 'd':12}\n",
    "foo(1,2,**dct)"
   ]
  },
  {
   "cell_type": "code",
   "execution_count": null,
   "metadata": {},
   "outputs": [],
   "source": [
    "dct = {'b':123, 'a':456, 'c':'44', 'd':12}\n",
    "foo(**dct)"
   ]
  },
  {
   "cell_type": "markdown",
   "metadata": {},
   "source": [
    "### <span style=\"background-color:lightgreen\">Объекты / классы</span>"
   ]
  },
  {
   "cell_type": "markdown",
   "metadata": {},
   "source": [
    "До сих пор наши программы состояли из функций, т.е. блоков выражений, которые манипулируют данными. Это называется *процедурно-ориентированным* стилем программирования. Существует и другой способ организации программ: объединять данные и функционал внутри некоего объекта. Это называется *объектно-ориентированной* парадигмой программирования. В большинстве случаев можно ограничиться процедурным программированием, а при написании большой программы или если решение конкретной задачи того требует, можно переходить к техникам объектно-ориентированного программирования.\n",
    "\n",
    "Два основных аспекта объектно-ориентированного программирования – классы и объекты. **Класс** создаёт новый *тип*, а **объекты** являются *экземплярами* класса. Аналогично, когда мы говорим о “переменных типа `int`”, это означает, что переменные, которые хранят целочисленные значения, являются экземплярами (объектами) класса `int`."
   ]
  },
  {
   "cell_type": "markdown",
   "metadata": {},
   "source": [
    "Объекты могут хранить данные в обычных переменных, которые принадлежат объекту. Переменные, принадлежащие объекту или классу, называют **полями**. Объекты могут также обладать функционалом, т.е. иметь функции, принадлежащие классу. Такие функции принято называть **методами** класса. Эта терминология важна, так как она помогает нам отличать независимые функции и переменные от тех, что принадлежат классу или объекту. Всё вместе (поля и методы) принято называть **атрибутами** класса."
   ]
  },
  {
   "cell_type": "code",
   "execution_count": null,
   "metadata": {},
   "outputs": [],
   "source": [
    "some_list = [3,4,5,6]\n",
    "\n",
    "some_list.index(5) # метод"
   ]
  },
  {
   "cell_type": "code",
   "execution_count": null,
   "metadata": {},
   "outputs": [],
   "source": [
    "print(dir(some_list))"
   ]
  },
  {
   "cell_type": "markdown",
   "metadata": {},
   "source": [
    "Для доступа к членам класса - вызова методов, или просмотра/изменения атрибутов используется \"запись с точкой\":   \n",
    "- `объектная_переменная.метод()` \n",
    "- `объектная_переменная.имя_поля`"
   ]
  },
  {
   "cell_type": "code",
   "execution_count": null,
   "metadata": {},
   "outputs": [],
   "source": [
    "x = 11.3\n",
    "x.imag  # поле / атрибут"
   ]
  },
  {
   "cell_type": "code",
   "execution_count": null,
   "metadata": {},
   "outputs": [],
   "source": [
    "s = '  Some string   \\n\\n'\n",
    "su = s.upper()\n",
    "su"
   ]
  },
  {
   "cell_type": "code",
   "execution_count": null,
   "metadata": {},
   "outputs": [],
   "source": [
    "s"
   ]
  },
  {
   "cell_type": "code",
   "execution_count": null,
   "metadata": {},
   "outputs": [],
   "source": [
    "s.upper().strip()"
   ]
  },
  {
   "cell_type": "markdown",
   "metadata": {},
   "source": [
    "### <span style=\"background-color:lightgreen\">Пользовательские классы</span>\n",
    "\n",
    "Поля бывают двух типов: они могут принадлежать каждому отдельному экземпляру объекта класса или всему классу. Они называются **переменными экземпляра** и **переменными класса** соответственно.\n",
    "\n",
    "Класс создаётся ключевым словом `class`. Поля и методы класса записываются в блоке кода с отступом."
   ]
  },
  {
   "cell_type": "code",
   "execution_count": null,
   "metadata": {},
   "outputs": [],
   "source": [
    "class C:\n",
    "    pass"
   ]
  },
  {
   "cell_type": "markdown",
   "metadata": {},
   "source": [
    "Класс состоит из объявления (инструкция class), имени класса (нашем случае это имя C) и тела класса, которое содержит атрибуты и методы (в нашем минимальном классе есть только одна инструкция pass).\n",
    "\n",
    "Для того чтобы создать объект класса необходимо воспользоваться следующим синтаксисом:\n",
    "\n",
    "**имя\\_объекта = имя\\_класса()**"
   ]
  },
  {
   "cell_type": "markdown",
   "metadata": {},
   "source": [
    "Доступ к аттрибуту класса можно получить следующим образом.\n",
    "\n",
    "*имя\\_объекта.атрибут*"
   ]
  },
  {
   "cell_type": "code",
   "execution_count": null,
   "metadata": {},
   "outputs": [],
   "source": [
    "c1 = C()\n",
    "print(c1)"
   ]
  },
  {
   "cell_type": "code",
   "execution_count": null,
   "metadata": {},
   "outputs": [],
   "source": [
    "c1.f1 = 1\n",
    "c1.f2 = 'hello'\n",
    "c1.dddddddddd= 'dsfsdfsdf'\n",
    "print(f'{c1.f1}   {c1.dddddddddd}')"
   ]
  },
  {
   "cell_type": "code",
   "execution_count": null,
   "metadata": {},
   "outputs": [],
   "source": [
    "c2 = C()\n",
    "print(f'{c2.f1}   {c2.f2}')"
   ]
  },
  {
   "cell_type": "markdown",
   "metadata": {},
   "source": [
    "Класс может содержать аттрибуты и методы. Ниже представлен класс, содержащий атрибуты color (цвет), width (ширина), height (высота)."
   ]
  },
  {
   "cell_type": "code",
   "execution_count": 1,
   "metadata": {},
   "outputs": [],
   "source": [
    "class Rectangle:\n",
    "    color = \"green\"\n",
    "    width = 100\n",
    "    height = 100"
   ]
  },
  {
   "cell_type": "code",
   "execution_count": 2,
   "metadata": {},
   "outputs": [
    {
     "name": "stdout",
     "output_type": "stream",
     "text": [
      "green\n"
     ]
    }
   ],
   "source": [
    "rect1 = Rectangle()\n",
    "print(rect1.color)"
   ]
  },
  {
   "cell_type": "code",
   "execution_count": 3,
   "metadata": {},
   "outputs": [
    {
     "name": "stdout",
     "output_type": "stream",
     "text": [
      "red\n"
     ]
    }
   ],
   "source": [
    "rect2 = Rectangle()\n",
    "rect2.color = \"red\"\n",
    "print(rect2.color)"
   ]
  },
  {
   "cell_type": "code",
   "execution_count": 4,
   "metadata": {},
   "outputs": [
    {
     "name": "stdout",
     "output_type": "stream",
     "text": [
      "green\n"
     ]
    }
   ],
   "source": [
    "print(rect1.color)"
   ]
  },
  {
   "cell_type": "code",
   "execution_count": 5,
   "metadata": {},
   "outputs": [],
   "source": [
    "Rectangle.color = \"blue\""
   ]
  },
  {
   "cell_type": "code",
   "execution_count": 6,
   "metadata": {},
   "outputs": [
    {
     "name": "stdout",
     "output_type": "stream",
     "text": [
      "blue\n"
     ]
    }
   ],
   "source": [
    "print(rect1.color)"
   ]
  },
  {
   "cell_type": "code",
   "execution_count": 7,
   "metadata": {},
   "outputs": [
    {
     "name": "stdout",
     "output_type": "stream",
     "text": [
      "red\n"
     ]
    }
   ],
   "source": [
    "print(rect2.color)"
   ]
  },
  {
   "cell_type": "markdown",
   "metadata": {},
   "source": [
    "Добавим к нашему классу метод. Метод – это функция находящаяся внутри класса, выполняющая определенную работу, которая, чаще всего, предполагает доступ к атрибутам созданного объекта. Например, нашему классу Rectangle, можно добавить метод, считающий площадь прямоугольника. Для того, чтобы метод в классе знал, с каким объектом он работает (это нужно для того, чтобы получить доступ к атрибутам: ширина (width) и высота (height)), первым аргументом ему следует передать параметр `self`, через который он может получить доступ к своим данным."
   ]
  },
  {
   "cell_type": "code",
   "execution_count": 8,
   "metadata": {},
   "outputs": [],
   "source": [
    "class Rectangle:\n",
    "    color = \"green\"\n",
    "    width = 100\n",
    "    height = 100\n",
    "    \n",
    "    def square(self):\n",
    "        return self.width * self.height"
   ]
  },
  {
   "cell_type": "code",
   "execution_count": 11,
   "metadata": {},
   "outputs": [
    {
     "name": "stdout",
     "output_type": "stream",
     "text": [
      "green\n",
      "10000\n"
     ]
    }
   ],
   "source": [
    "rect1 = Rectangle()\n",
    "print(rect1.color)\n",
    "print(rect1.square())"
   ]
  },
  {
   "cell_type": "code",
   "execution_count": 12,
   "metadata": {},
   "outputs": [
    {
     "name": "stdout",
     "output_type": "stream",
     "text": [
      "brown\n",
      "20000\n"
     ]
    }
   ],
   "source": [
    "rect2 = Rectangle()\n",
    "rect2.width = 200\n",
    "rect2.color = \"brown\"\n",
    "print(rect2.color)\n",
    "print(rect2.square())"
   ]
  },
  {
   "cell_type": "markdown",
   "metadata": {},
   "source": [
    "### <span style=\"background-color:lightgreen\">Конструктор класса</span>\n",
    "\n",
    "Конструктор класса позволяет задать определенные параметры объекта при его создании. Таким образом появляется возможность создавать объекты с уже заранее заданными атрибутами. Конструктором класса является метод:\n",
    "\n",
    "`__init__(self)`\n",
    "\n",
    "Например, для того, чтобы иметь возможность задать цвет, длину и ширину прямоугольника при его создании, добавим к классу Rectangle следующий конструктор:"
   ]
  },
  {
   "cell_type": "code",
   "execution_count": 13,
   "metadata": {},
   "outputs": [],
   "source": [
    "class Rectangle:\n",
    "    def __init__(self, color=\"green\", width=100, height=100):\n",
    "        self.color = color\n",
    "        self.width = width\n",
    "        self.height = height\n",
    "\n",
    "    def square(self):\n",
    "        return self.width * self.height"
   ]
  },
  {
   "cell_type": "code",
   "execution_count": 14,
   "metadata": {},
   "outputs": [
    {
     "name": "stdout",
     "output_type": "stream",
     "text": [
      "green\n",
      "10000\n",
      "yellow\n",
      "782\n"
     ]
    }
   ],
   "source": [
    "rect1 = Rectangle()\n",
    "print(rect1.color)\n",
    "print(rect1.square())\n",
    "rect1 = Rectangle(\"yellow\", 23, 34)\n",
    "print(rect1.color)\n",
    "print(rect1.square())"
   ]
  },
  {
   "cell_type": "markdown",
   "metadata": {},
   "source": [
    "### <span style=\"background-color:orange\">Наследование</span>\n",
    "\n",
    "В организации наследования участвуют как минимум два класса: класс родитель и класс потомок. При этом возможно множественное наследование, в этом случае у класса потомка есть несколько родителей. Не все языки программирования поддерживают множественное наследование, но в Python можно его использовать.\n",
    "\n",
    "Синтаксически создание класса с указанием его родителя/ей выглядит так:\n",
    "\n",
    "**class имя\\_класса(имя\\_родителя1, [имя\\_родителя2,…, имя\\_родителя\\_n])**\n",
    "\n",
    "Доработаем наш пример так, чтобы в нем присутствовало наследование."
   ]
  },
  {
   "cell_type": "code",
   "execution_count": null,
   "metadata": {},
   "outputs": [],
   "source": [
    "class Figure:\n",
    "    def __init__(self, color):\n",
    "        self.color = color\n",
    "\n",
    "    def get_color(self):\n",
    "        return self.color"
   ]
  },
  {
   "cell_type": "code",
   "execution_count": null,
   "metadata": {},
   "outputs": [],
   "source": [
    "class Rectangle(Figure):\n",
    "    def __init__(self, color, width=100, height=100):\n",
    "        super().__init__(color)\n",
    "        self.width = width\n",
    "        self.height = height\n",
    "\n",
    "    def square(self):\n",
    "        return self.width*self.height"
   ]
  },
  {
   "cell_type": "code",
   "execution_count": null,
   "metadata": {},
   "outputs": [],
   "source": [
    "rect1 = Rectangle(\"blue\")\n",
    "print(rect1.get_color())\n",
    "print(rect1.square())\n",
    "rect2 = Rectangle(\"red\", 25, 70)\n",
    "print(rect2.get_color())\n",
    "print(rect2.square())"
   ]
  },
  {
   "cell_type": "markdown",
   "metadata": {},
   "source": [
    "### <span style=\"background-color:orange\">Полиморфизм</span>\n",
    "\n",
    "Как уже было сказано во введении в рамках ООП полиморфизм, как правило, используется с позиции переопределения методов базового класса в классе наследнике. Проще всего это рассмотреть на примере. Добавим в наш базовый класс метод *info()*, который печатает сводную информацию по объекту класса *Figure* и переопределим этот метод в классе *Rectangle*, где добавим дополнительные данные и вывод."
   ]
  },
  {
   "cell_type": "code",
   "execution_count": null,
   "metadata": {},
   "outputs": [],
   "source": [
    "class Figure:\n",
    "    def __init__(self, color):\n",
    "        self.color = color\n",
    "\n",
    "    def get_color(self):\n",
    "        return self.color\n",
    "\n",
    "    def info(self):\n",
    "        print(\"Figure\")\n",
    "        print(\"Color: \" + self.color)"
   ]
  },
  {
   "cell_type": "code",
   "execution_count": null,
   "metadata": {},
   "outputs": [],
   "source": [
    "class Rectangle(Figure):\n",
    "    def __init__(self, color, width=100, height=100):\n",
    "        super().__init__(color)\n",
    "        self.width = width\n",
    "        self.height = height\n",
    "\n",
    "    def square(self):\n",
    "        return self.width * self.height\n",
    "\n",
    "    def info(self):\n",
    "        print(\"Rectangle\")\n",
    "        print(\"Color: \" + self.color)\n",
    "        print(\"Width: \" + str(self.width))\n",
    "        print(\"Height: \" + str(self.height))\n",
    "        print(\"Square: \" + str(self.square()))"
   ]
  },
  {
   "cell_type": "code",
   "execution_count": null,
   "metadata": {},
   "outputs": [],
   "source": [
    "fig1 = Figure(\"green\")\n",
    "fig1.info()"
   ]
  },
  {
   "cell_type": "code",
   "execution_count": null,
   "metadata": {},
   "outputs": [],
   "source": [
    "rect1 = Rectangle(\"red\", 24, 45)\n",
    "rect1.info()"
   ]
  },
  {
   "cell_type": "markdown",
   "metadata": {},
   "source": [
    "Однако в python имеются методы, которые, как правило, не вызываются напрямую, а вызываются <span style=\"background-color:orange\">встроенными функциями или операторами</span>.\n",
    "\n",
    "Собственно, далее пойдёт список таких \"магических\" методов.\n",
    "\n",
    "`__new__(cls[, ...])` — управляет созданием экземпляра. В качестве обязательного аргумента принимает класс (не путать с экземпляром). Должен возвращать экземпляр класса для его последующей его передачи методу `__init__`.\n",
    "\n",
    "`__init__(self[, ...])` - как уже было сказано выше, конструктор.\n",
    "\n",
    "`__del__(self)` - вызывается при удалении объекта сборщиком мусора.\n",
    "\n",
    "`__repr__(self)` - вызывается встроенной функцией repr; возвращает \"сырые\" данные, использующиеся для внутреннего представления в python.\n",
    "\n",
    "`__str__(self)` - вызывается функциями str, print и format. Возвращает строковое представление объекта.\n",
    "\n",
    "`__bytes__(self)` - вызывается функцией bytes при преобразовании к байтам.\n",
    "\n",
    "`__format__(self, format_spec)` - используется функцией format (а также методом format у строк).\n",
    "\n",
    "`__lt__(self, other)` - x < y вызывает x.__lt__(y).\n",
    "\n",
    "`__le__(self, other)` - x ≤ y вызывает x.__le__(y).\n",
    "\n",
    "`__eq__(self, other)` - x == y вызывает x.__eq__(y).\n",
    "\n",
    "`__ne__(self, other)` - x != y вызывает x.__ne__(y)\n",
    "\n",
    "`__gt__(self, other)` - x > y вызывает x.__gt__(y).\n",
    "\n",
    "`__ge__(self, other)` - x ≥ y вызывает x.__ge__(y).\n",
    "\n",
    "`__hash__(self)` - получение хэш-суммы объекта, например, для добавления в словарь.\n",
    "\n",
    "`__bool__(self)` - вызывается при проверке истинности. Если этот метод не определён, вызывается метод __len__ (объекты, имеющие ненулевую длину, считаются истинными).\n",
    "\n",
    "`__getattr__(self, name)` - вызывается, когда атрибут экземпляра класса не найден в обычных местах (например, у экземпляра нет метода с таким названием).\n",
    "\n",
    "`__setattr__(self, name, value)` - назначение атрибута.\n",
    "\n",
    "`__delattr__(self, name)` - удаление атрибута (del obj.name).\n",
    "\n",
    "`__call__(self[, args...])` - вызов экземпляра класса как функции.\n",
    "\n",
    "`__len__(self)` - длина объекта.\n",
    "\n",
    "`__getitem__(self, key)` - доступ по индексу (или ключу).\n",
    "\n",
    "`__setitem__(self, key, value)` - назначение элемента по индексу.\n",
    "\n",
    "`__delitem__(self, key)` - удаление элемента по индексу.\n",
    "\n",
    "`__iter__(self)` - возвращает итератор для контейнера.\n",
    "\n",
    "`__reversed__(self)` - итератор из элементов, следующих в обратном порядке.\n",
    "\n",
    "`__contains__(self, item)` - проверка на принадлежность элемента контейнеру (item in self).\n",
    "\n",
    "Перегрузка арифметических операторов\n",
    "\n",
    "`__add__(self, other)` - сложение. x + y вызывает x.__add__(y).\n",
    "\n",
    "`__sub__(self, other)` - вычитание (x - y).\n",
    "\n",
    "`__mul__(self, other) `- умножение (x * y).\n",
    "\n",
    "`__truediv__(self, other)` - деление (x / y).\n",
    "\n",
    "`__floordiv__(self, other)` - целочисленное деление (x // y).\n",
    "\n",
    "`__mod__(self, other)` - остаток от деления (x % y).\n",
    "\n",
    "`__divmod__(self, other)` - частное и остаток (divmod(x, y)).\n",
    "\n",
    "`__pow__(self, other[, modulo])` - возведение в степень (x \\*\\* y, pow(x, y[, modulo])).\n",
    "\n",
    "`__lshift__(self, other)` - битовый сдвиг влево (x << y).\n",
    "\n",
    "`__rshift__(self, other)` - битовый сдвиг вправо (x >> y).\n",
    "\n",
    "`__and__(self, other)` - битовое И (x & y).\n",
    "\n",
    "`__xor__(self, other)` - битовое ИСКЛЮЧАЮЩЕЕ ИЛИ (x ^ y).\n",
    "\n",
    "`__or__(self, other) `- битовое ИЛИ (x | y).\n",
    "\n",
    "Пойдём дальше.\n",
    "\n",
    "`__radd__(self, other)`,\n",
    "\n",
    "`__rsub__(self, other)`,\n",
    "\n",
    "`__rmul__(self, other)`,\n",
    "\n",
    "`__rtruediv__(self, other)`,\n",
    "\n",
    "`__rfloordiv__(self, other)`,\n",
    "\n",
    "`__rmod__(self, other)`,\n",
    "\n",
    "`__rdivmod__(self, other)`,\n",
    "\n",
    "`__rpow__(self, other)`,\n",
    "\n",
    "`__rlshift__(self, other)`,\n",
    "\n",
    "`__rrshift__(self, other)`,\n",
    "\n",
    "`__rand__(self, other)`,\n",
    "\n",
    "`__rxor__(self, other)`,\n",
    "\n",
    "`__ror__(self, other)` - делают то же самое, что и арифметические операторы, перечисленные выше, но для аргументов, находящихся справа, и только в случае, если для левого операнда не определён соответствующий метод.\n",
    "\n",
    "Например, операция x + y будет сначала пытаться вызвать `x.__add__(y)`, и только в том случае, если это не получилось, будет пытаться вызвать `y.__radd__(x)`. Аналогично для остальных методов.\n",
    "\n",
    "Идём дальше.\n",
    "\n",
    "`__iadd__(self, other)` - +=.\n",
    "\n",
    "`__isub__(self, other)` - -=.\n",
    "\n",
    "`__imul__(self, other)` - *=.\n",
    "\n",
    "`__itruediv__(self, other)` - /=.\n",
    "\n",
    "`__ifloordiv__(self, other)` - //=.\n",
    "\n",
    "`__imod__(self, other)` - %=.\n",
    "\n",
    "`__ipow__(self, other[, modulo])` - \\*\\*=.\n",
    "\n",
    "`__ilshift__(self, other)` - <<=.\n",
    "\n",
    "`__irshift__(self, other)` - >>=.\n",
    "\n",
    "`__iand__(self, other)` - &=.\n",
    "\n",
    "`__ixor__(self, other)` - ^=.\n",
    "\n",
    "`__ior__(self, other)` - |=.\n",
    "\n",
    "`__neg__(self)` - унарный -.\n",
    "\n",
    "`__pos__(self)` - унарный +.\n",
    "\n",
    "`__abs__(self)` - модуль (abs()).\n",
    "\n",
    "`__invert__(self)` - инверсия (~).\n",
    "\n",
    "`__complex__(self)` - приведение к complex.\n",
    "\n",
    "`__int__(self)` - приведение к int.\n",
    "\n",
    "`__float__(self) `- приведение к float.\n",
    "\n",
    "`__round__(self[, n])` - округление.\n",
    "\n",
    "`__enter__(self), __exit__(self, exc_type, exc_value, traceback)` - реализация менеджеров контекста."
   ]
  },
  {
   "cell_type": "code",
   "execution_count": null,
   "metadata": {},
   "outputs": [],
   "source": [
    "class Vec2d(object):\n",
    "    def __init__(self, x, y):\n",
    "        self.x = x\n",
    "        self.y = y"
   ]
  },
  {
   "cell_type": "code",
   "execution_count": null,
   "metadata": {},
   "outputs": [],
   "source": [
    "v = Vec2d(77,88)\n",
    "print(v.x, v.y)"
   ]
  },
  {
   "cell_type": "code",
   "execution_count": null,
   "metadata": {},
   "outputs": [],
   "source": [
    "print(v)"
   ]
  },
  {
   "cell_type": "code",
   "execution_count": null,
   "metadata": {},
   "outputs": [],
   "source": [
    "class Vec2d(object):\n",
    "    def __init__(self, x, y):\n",
    "        self.x = x\n",
    "        self.y = y\n",
    "        \n",
    "    def __str__(self):\n",
    "        return f'({self.x}, {self.y})'"
   ]
  },
  {
   "cell_type": "code",
   "execution_count": null,
   "metadata": {},
   "outputs": [],
   "source": [
    "v = Vec2d(77,88)\n",
    "print(str(v))\n",
    "print(v)"
   ]
  },
  {
   "cell_type": "code",
   "execution_count": null,
   "metadata": {},
   "outputs": [],
   "source": [
    "v"
   ]
  },
  {
   "cell_type": "code",
   "execution_count": null,
   "metadata": {},
   "outputs": [],
   "source": [
    "class Vec2d(object):\n",
    "    def __init__(self, x, y):\n",
    "        self.x = x\n",
    "        self.y = y\n",
    "        \n",
    "    def __str__(self):\n",
    "        return f'({self.x}, {self.y})'\n",
    "    \n",
    "    def __repr__(self):\n",
    "        return f'Vec2d({self.x}, {self.y})'"
   ]
  },
  {
   "cell_type": "code",
   "execution_count": null,
   "metadata": {},
   "outputs": [],
   "source": [
    "v = Vec2d(77, 88)\n",
    "v"
   ]
  },
  {
   "cell_type": "code",
   "execution_count": null,
   "metadata": {},
   "outputs": [],
   "source": [
    "class Vec2d(object):\n",
    "    def __init__(self, x, y):\n",
    "        self.x = x\n",
    "        self.y = y\n",
    "        \n",
    "    def __str__(self):\n",
    "        return f'({self.x}, {self.y})'\n",
    "    \n",
    "    def __repr__(self):\n",
    "        return f'Vec2d({self.x}, {self.y})'\n",
    "    \n",
    "    def __add__(self, other):\n",
    "        return Vec2d(self.x + other.x, self.y + other.y)"
   ]
  },
  {
   "cell_type": "code",
   "execution_count": null,
   "metadata": {},
   "outputs": [],
   "source": [
    "v1 = Vec2d(1, 2)\n",
    "v2 = Vec2d(3, 4)\n",
    "v1 + v2"
   ]
  },
  {
   "cell_type": "markdown",
   "metadata": {},
   "source": [
    "### <span style=\"background-color:lightgreen\">Модули</span>\n",
    "\n",
    "- Большие программы обычно разбиваются на отдельные файлы - модули. \n",
    "- _Модуль_ в Python - это файл, содержащий определения переменных, функций и классов. \n",
    "- Модули разрабатывают как логически завершенные наборы объектов, позволяющие решить некоторую задачу или логически связанные задачи. Например, в модуле `sys` содержатся объекты для работы с системными ресурсами, в модуле `math` - математические функции и константы.\n",
    "- Внутри модуля доступны все объекты, определенные в нем. Также можно пользоваться объектами, определенными в других модулях. Для этого их нужно _импортировать_ с помощью операторов `import` или `from`."
   ]
  },
  {
   "cell_type": "code",
   "execution_count": null,
   "metadata": {},
   "outputs": [],
   "source": [
    "import sys #импорт всех объектов из модуля sys, они будут доступны через sys.имя\n",
    "from math import pi, sin #импорт одной переменной из модуля math, она будет доступна как pi"
   ]
  },
  {
   "cell_type": "code",
   "execution_count": null,
   "metadata": {},
   "outputs": [],
   "source": [
    "l = [1,2,3]\n",
    "l"
   ]
  },
  {
   "cell_type": "code",
   "execution_count": null,
   "metadata": {},
   "outputs": [],
   "source": [
    "pi"
   ]
  },
  {
   "cell_type": "code",
   "execution_count": null,
   "metadata": {},
   "outputs": [],
   "source": [
    "sin(pi)"
   ]
  },
  {
   "cell_type": "markdown",
   "metadata": {},
   "source": [
    "### <span style=\"background-color:lightgreen\">Пространства имен</span>\n",
    "\n",
    "Чтобы избежать конфликта имен, при импорте модуля оператором `import` имена объектов, определенных в модуле, добавляются в отдельное **пространство имен**. К ним нужно обращаться так:\n",
    "\n",
    "`модуль.имя объекта`.  \n",
    "\n",
    "Список всех объектов в модуле после импорта можно просмотреть функцией `dir(модуль)`"
   ]
  },
  {
   "cell_type": "code",
   "execution_count": null,
   "metadata": {},
   "outputs": [],
   "source": [
    "print('Объекты из модуля sys:\\n', dir(sys),'\\n') #список имен, определенных в модуле"
   ]
  },
  {
   "cell_type": "code",
   "execution_count": null,
   "metadata": {},
   "outputs": [],
   "source": [
    "print(sys.version) #доступ к объекту из пространства имен модуля"
   ]
  },
  {
   "cell_type": "markdown",
   "metadata": {},
   "source": [
    "### <span style=\"background-color:lightgreen\">Переименование модулей</span>\n",
    "\n",
    "При частом доступе к объектам в пространстве имен модуля удобно, когда префикс, состоящий из имени модуля, имеет небольшую длину. Поэтому часто используемые модули при импорте переименовывают с помощью оператора `as`"
   ]
  },
  {
   "cell_type": "code",
   "execution_count": null,
   "metadata": {},
   "outputs": [],
   "source": [
    "import sys as ssyyss\n",
    "from math import sin as SINUS\n",
    "from math import pi\n",
    "\n",
    "SINUS(pi)"
   ]
  },
  {
   "cell_type": "code",
   "execution_count": null,
   "metadata": {},
   "outputs": [],
   "source": [
    "import numpy as np"
   ]
  },
  {
   "cell_type": "code",
   "execution_count": null,
   "metadata": {},
   "outputs": [],
   "source": [
    "np.linspace(1,2,3)"
   ]
  },
  {
   "cell_type": "markdown",
   "metadata": {},
   "source": [
    "### <span style=\"background-color:lightgreen\">где ищутся модули?</span>\n",
    "\n",
    "### <span style=\"background-color:lightgreen\">из каких папок импортируются?</span>\n",
    "\n",
    "Узнать Ваши конкретные пути импорта модулей можно узнать выполнив команду:"
   ]
  },
  {
   "cell_type": "code",
   "execution_count": null,
   "metadata": {},
   "outputs": [],
   "source": [
    "import sys\n",
    "sys.path"
   ]
  },
  {
   "cell_type": "markdown",
   "metadata": {},
   "source": [
    "Допустим у нас есть НАШ модуль, который мы хотим импортировать\n",
    "```python\n",
    "from math import cos, pi\n",
    "\n",
    "SOME_GLOB_VAR = 'I AM GLOBAL (in module)'\n",
    "\n",
    "def some_foo(a,b):\n",
    "    print(f'a = {a}')\n",
    "    return a+2*b\n",
    "\n",
    "class MyClass(object):\n",
    "    def __init__(self):\n",
    "        self.a = 123\n",
    "\n",
    "if __name__ == '__main__':\n",
    "    print(f'Да, да, вы вызвали {__file__} напрямую')\n",
    "```\n",
    "\n",
    "И, если он лежит не в указанных папках, то..."
   ]
  },
  {
   "cell_type": "code",
   "execution_count": null,
   "metadata": {},
   "outputs": [],
   "source": [
    "import my_first_module"
   ]
  },
  {
   "cell_type": "markdown",
   "metadata": {},
   "source": [
    "Решение:"
   ]
  },
  {
   "cell_type": "code",
   "execution_count": null,
   "metadata": {},
   "outputs": [],
   "source": [
    "sys.path.append(r'C:\\Users\\mi\\Google Диск\\00_teaching 2019\\ИТ при проектировании РиСО\\лекции\\семинар 2\\new foolder 4 import')"
   ]
  },
  {
   "cell_type": "code",
   "execution_count": null,
   "metadata": {},
   "outputs": [],
   "source": [
    "import my_first_module "
   ]
  },
  {
   "cell_type": "code",
   "execution_count": null,
   "metadata": {},
   "outputs": [],
   "source": [
    "my_first_module.some_foo(1,2)"
   ]
  },
  {
   "cell_type": "markdown",
   "metadata": {},
   "source": [
    "### <span style=\"background-color:orange\">Перезагрузка импортированных модулей</span>\n",
    "\n",
    "`%load_ext autoreload`\n",
    "\n",
    "`%autoreload 2`\n",
    "\n",
    "А также [Гугл](https://www.google.com/search?q=jupyter+notebook+reload+module&oq=jupyter+notebook+re&aqs=chrome.1.69i57j35i39j0l4.8725j0j7&sourceid=chrome&ie=UTF-8) "
   ]
  },
  {
   "cell_type": "markdown",
   "metadata": {},
   "source": [
    "### <span style=\"background-color:lightgreen\">Установка новых модулей / пакетов</span>\n",
    "\n",
    "В дистрибутиве `Anaconda` новые пакеты (из интернета)) можно установить в графическом интерфейсе\n",
    "\n",
    "![](pics/Screenshot_6.png)"
   ]
  },
  {
   "cell_type": "markdown",
   "metadata": {},
   "source": [
    "Более правильными способом установки новых пакетов (существующих в интернете) являются установки пакетов через существующие пакетные менеждеры:\n",
    "- `pip`\n",
    "- `conda`\n",
    "\n",
    "`$ conda install some_package`\n",
    "\n",
    "`$ pip install some_packages`\n",
    "\n",
    "Более <span style=\"background-color:orange\">подробно</span> - в [Гугл](google.com) "
   ]
  },
  {
   "cell_type": "markdown",
   "metadata": {},
   "source": [
    "***\n",
    "### <span style=\"background-color:lightgreen\">Шпаргалка по numpy</span>\n",
    "\n",
    "![](pics/333.jpg)\n",
    "\n",
    "**NumPy** это open-source модуль для python, который предоставляет общие математические и числовые операции в виде пре-скомпилированных, быстрых функций. Они объединяются в высокоуровневые пакеты. Они обеспечивают функционал, который можно сравнить с функционалом MatLab. NumPy (Numeric Python) предоставляет базовые методы для манипуляции с большими массивами и матрицами. SciPy (Scientific Python) расширяет функционал numpy огромной коллекцией полезных алгоритмов, таких как минимизация, преобразование Фурье, регрессия, и другие прикладные математические техники.\n",
    "\n",
    "##### Установка (если еще не установлено):\n",
    "\n",
    "`$ pip install numpy`"
   ]
  },
  {
   "cell_type": "code",
   "execution_count": null,
   "metadata": {},
   "outputs": [],
   "source": [
    "import numpy as np\n",
    "np.__version__"
   ]
  },
  {
   "cell_type": "markdown",
   "metadata": {},
   "source": [
    "### Массивы/матрицы/тензоры"
   ]
  },
  {
   "cell_type": "code",
   "execution_count": null,
   "metadata": {},
   "outputs": [],
   "source": [
    "a = np.array([1,2,3,4,6,7])\n",
    "a"
   ]
  },
  {
   "cell_type": "code",
   "execution_count": null,
   "metadata": {},
   "outputs": [],
   "source": [
    "a.dtype"
   ]
  },
  {
   "cell_type": "code",
   "execution_count": null,
   "metadata": {},
   "outputs": [],
   "source": [
    "a = np.array([1,2,3,4.0])\n",
    "a, a.dtype"
   ]
  },
  {
   "cell_type": "code",
   "execution_count": null,
   "metadata": {},
   "outputs": [],
   "source": [
    "a = np.array([1,2,3,4], dtype=float)\n",
    "a, a.dtype"
   ]
  },
  {
   "cell_type": "code",
   "execution_count": null,
   "metadata": {},
   "outputs": [],
   "source": [
    "a = np.array([1,2,3,4])\n",
    "b = np.array(a) # по-умолчанию происходит копирование\n",
    "a[1] = 999\n",
    "a, b"
   ]
  },
  {
   "cell_type": "code",
   "execution_count": null,
   "metadata": {},
   "outputs": [],
   "source": [
    "a = np.array([1,2,3,4])\n",
    "b = a  # просто ссылка\n",
    "a[1] = 999\n",
    "a, b"
   ]
  },
  {
   "cell_type": "code",
   "execution_count": null,
   "metadata": {},
   "outputs": [],
   "source": [
    "a = np.array([1,2,3,4])\n",
    "b = np.asarray(a) # ссылка\n",
    "a[1] = 999\n",
    "a, b"
   ]
  },
  {
   "cell_type": "code",
   "execution_count": null,
   "metadata": {},
   "outputs": [],
   "source": [
    "a = np.array([1,2,3,4])\n",
    "b = a.copy()  # -__-\n",
    "a[1] = 999\n",
    "a, b"
   ]
  },
  {
   "cell_type": "code",
   "execution_count": null,
   "metadata": {},
   "outputs": [],
   "source": [
    "a.shape # размер"
   ]
  },
  {
   "cell_type": "code",
   "execution_count": null,
   "metadata": {},
   "outputs": [],
   "source": [
    "a.ndim"
   ]
  },
  {
   "cell_type": "code",
   "execution_count": null,
   "metadata": {},
   "outputs": [],
   "source": [
    "#двухмерный массив из списка:\n",
    "arr2 = np.array([[1, 2, 3],\n",
    "                 [4, 5, 6],\n",
    "                 [7, 8, 9]])\n",
    "print(arr2)"
   ]
  },
  {
   "cell_type": "code",
   "execution_count": null,
   "metadata": {},
   "outputs": [],
   "source": [
    "arr2.shape, arr2.ndim"
   ]
  },
  {
   "cell_type": "markdown",
   "metadata": {},
   "source": [
    "***\n",
    "##### Полезные методы создания"
   ]
  },
  {
   "cell_type": "code",
   "execution_count": null,
   "metadata": {},
   "outputs": [],
   "source": [
    "np.linspace(1,10,4)"
   ]
  },
  {
   "cell_type": "code",
   "execution_count": null,
   "metadata": {},
   "outputs": [],
   "source": [
    "help(np.linspace)"
   ]
  },
  {
   "cell_type": "code",
   "execution_count": null,
   "metadata": {},
   "outputs": [],
   "source": [
    "np.arange(-3,12,2)"
   ]
  },
  {
   "cell_type": "code",
   "execution_count": null,
   "metadata": {},
   "outputs": [],
   "source": [
    "np.zeros(4)"
   ]
  },
  {
   "cell_type": "code",
   "execution_count": null,
   "metadata": {},
   "outputs": [],
   "source": [
    "a, np.zeros_like(a)"
   ]
  },
  {
   "cell_type": "code",
   "execution_count": null,
   "metadata": {},
   "outputs": [],
   "source": [
    "A = np.identity(5) #единичная матрица\n",
    "print(I)"
   ]
  },
  {
   "cell_type": "code",
   "execution_count": null,
   "metadata": {},
   "outputs": [],
   "source": [
    "print(np.zeros_like(I))"
   ]
  },
  {
   "cell_type": "markdown",
   "metadata": {},
   "source": [
    "***"
   ]
  },
  {
   "cell_type": "markdown",
   "metadata": {},
   "source": [
    "Все операции срезов и распаковки полностью аналогичны встроенным спискам python'a, однако имеют и **дополнительный** функционал"
   ]
  },
  {
   "cell_type": "code",
   "execution_count": null,
   "metadata": {},
   "outputs": [],
   "source": [
    "a = np.array([1,2,3,4,5,6])\n",
    "a[1:3]"
   ]
  },
  {
   "cell_type": "code",
   "execution_count": null,
   "metadata": {},
   "outputs": [],
   "source": [
    "a > 4"
   ]
  },
  {
   "cell_type": "code",
   "execution_count": null,
   "metadata": {},
   "outputs": [],
   "source": [
    "a[a>3]"
   ]
  },
  {
   "cell_type": "code",
   "execution_count": null,
   "metadata": {},
   "outputs": [],
   "source": [
    "a[1::2]"
   ]
  },
  {
   "cell_type": "code",
   "execution_count": null,
   "metadata": {},
   "outputs": [],
   "source": [
    "a[1::2] = 77\n",
    "a"
   ]
  },
  {
   "cell_type": "code",
   "execution_count": null,
   "metadata": {},
   "outputs": [],
   "source": [
    "a[a>=77]"
   ]
  },
  {
   "cell_type": "code",
   "execution_count": null,
   "metadata": {},
   "outputs": [],
   "source": [
    "a[a>=77] = 11,22,33\n",
    "a"
   ]
  },
  {
   "cell_type": "code",
   "execution_count": null,
   "metadata": {},
   "outputs": [],
   "source": [
    "i = [1,0,3]\n",
    "a[i]"
   ]
  },
  {
   "cell_type": "markdown",
   "metadata": {},
   "source": [
    "#### Операции с массивами"
   ]
  },
  {
   "cell_type": "code",
   "execution_count": null,
   "metadata": {},
   "outputs": [],
   "source": [
    "A[1, 1] = 5 #изменение элемента\n",
    "print(A)"
   ]
  },
  {
   "cell_type": "code",
   "execution_count": null,
   "metadata": {},
   "outputs": [],
   "source": [
    "A[1:, 2:] = 10\n",
    "print(A)"
   ]
  },
  {
   "cell_type": "code",
   "execution_count": null,
   "metadata": {},
   "outputs": [],
   "source": [
    "print(A[1]) #извлечение строки"
   ]
  },
  {
   "cell_type": "code",
   "execution_count": null,
   "metadata": {},
   "outputs": [],
   "source": [
    "print(A[:, 1]) #извлечение столбца"
   ]
  },
  {
   "cell_type": "code",
   "execution_count": null,
   "metadata": {},
   "outputs": [],
   "source": [
    "print(A * 2) #полэлементное умножение"
   ]
  },
  {
   "cell_type": "code",
   "execution_count": null,
   "metadata": {},
   "outputs": [],
   "source": [
    "print(A * A)"
   ]
  },
  {
   "cell_type": "code",
   "execution_count": null,
   "metadata": {},
   "outputs": [],
   "source": [
    "print(np.sqrt(A * A)) #применение функции к каждому элементу массива"
   ]
  },
  {
   "cell_type": "code",
   "execution_count": null,
   "metadata": {},
   "outputs": [],
   "source": [
    "print(A.T) #транспонирование"
   ]
  },
  {
   "cell_type": "code",
   "execution_count": null,
   "metadata": {},
   "outputs": [],
   "source": [
    "a = np.linspace(1,9,9)\n",
    "print(f'a = {a}')"
   ]
  },
  {
   "cell_type": "code",
   "execution_count": null,
   "metadata": {},
   "outputs": [],
   "source": [
    "a.reshape(3,3)"
   ]
  },
  {
   "cell_type": "code",
   "execution_count": null,
   "metadata": {},
   "outputs": [],
   "source": [
    "a"
   ]
  },
  {
   "cell_type": "markdown",
   "metadata": {},
   "source": [
    "Изменение размеров (добавление и удаление элементов) для numpy массивов являестя **\"дорогой\"** операцией"
   ]
  },
  {
   "cell_type": "code",
   "execution_count": null,
   "metadata": {},
   "outputs": [],
   "source": [
    "np.append([1, 2, 3], [[4, 5, 6], [7, 8, 9]])"
   ]
  },
  {
   "cell_type": "code",
   "execution_count": null,
   "metadata": {},
   "outputs": [],
   "source": [
    "a = np.array([1,2,3,4])\n",
    "np.hstack((a, 5))"
   ]
  },
  {
   "cell_type": "code",
   "execution_count": null,
   "metadata": {},
   "outputs": [],
   "source": [
    "np.concatenate((a, [6]))"
   ]
  },
  {
   "cell_type": "code",
   "execution_count": null,
   "metadata": {},
   "outputs": [],
   "source": [
    "np.delete(a, 2)"
   ]
  },
  {
   "cell_type": "code",
   "execution_count": null,
   "metadata": {},
   "outputs": [],
   "source": [
    "a"
   ]
  },
  {
   "cell_type": "markdown",
   "metadata": {},
   "source": [
    "### <span style=\"background-color:LIGHTCORAL\">Более подробно о **numpy** изучать [здесь](https://numpy.org/)</span>"
   ]
  }
 ],
 "metadata": {
  "kernelspec": {
   "display_name": "Python 3",
   "language": "python",
   "name": "python3"
  },
  "language_info": {
   "codemirror_mode": {
    "name": "ipython",
    "version": 3
   },
   "file_extension": ".py",
   "mimetype": "text/x-python",
   "name": "python",
   "nbconvert_exporter": "python",
   "pygments_lexer": "ipython3",
   "version": "3.7.4"
  }
 },
 "nbformat": 4,
 "nbformat_minor": 4
}
