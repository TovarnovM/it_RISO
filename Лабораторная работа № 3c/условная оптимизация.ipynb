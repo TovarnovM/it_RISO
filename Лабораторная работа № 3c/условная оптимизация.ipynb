{
 "cells": [
  {
   "cell_type": "markdown",
   "metadata": {},
   "source": [
    "### Лабораторная работа № 3\n",
    "\n",
    "Дана функция:\n",
    "\n",
    "$$z(x,y)=(x+1)^2+y^2$$\n",
    "\n",
    "Область допустимых решений функции $z(x, y)$ задается ограничениями:\n",
    "$$x\\le2;$$\n",
    "$$y<3;$$\n",
    "$$x+y\\ge0.5$$\n",
    "$$x^2+2y^2=2.25$$\n",
    "\n",
    "Необходимо:\n",
    "1. Найти точки минимума и максимума функции при помощи методов оптимизации модуля [```scipy.minimize```](https://docs.scipy.org/doc/scipy/reference/tutorial/optimize.html) (методы определения минимума и максимума должны быть разные). В качестве начальной точки взять $z_0=(x_0, y_0)=(0.5,2)$\n",
    "2. В процессе работы алгоритма оптимизации необходимо сохранять точки, в которых считаются значения функции.\n",
    "3. Вывести график области допустимых решений функции и нанести на него точки, полученные в п.2. В результате должен получиться график, **похожий** на рис.1\n",
    "![](Рис.1.png)\n",
    "<center>Рис. 1. Пример графика</center>"
   ]
  },
  {
   "cell_type": "code",
   "execution_count": null,
   "metadata": {},
   "outputs": [],
   "source": []
  }
 ],
 "metadata": {
  "kernelspec": {
   "display_name": "Python 3",
   "language": "python",
   "name": "python3"
  },
  "language_info": {
   "codemirror_mode": {
    "name": "ipython",
    "version": 3
   },
   "file_extension": ".py",
   "mimetype": "text/x-python",
   "name": "python",
   "nbconvert_exporter": "python",
   "pygments_lexer": "ipython3",
   "version": "3.8.5"
  }
 },
 "nbformat": 4,
 "nbformat_minor": 4
}
