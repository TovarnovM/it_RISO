{
 "cells": [
  {
   "cell_type": "markdown",
   "metadata": {
    "colab_type": "text",
    "id": "cnrm8e10yknt"
   },
   "source": [
    "### Текстовые файлы. Работа с файлами.\n",
    "Прежде, чем работать с файлом, его надо открыть. С этим замечательно справится встроенная функция open:"
   ]
  },
  {
   "cell_type": "markdown",
   "metadata": {
    "colab_type": "text",
    "id": "yV8_XlmgykoP"
   },
   "source": [
    "Режим\t|  Обозначение\n",
    ":-------|:--------------\n",
    "'r'\t| открытие на чтение (является значением по умолчанию).\n",
    "'w'\t| открытие на запись, содержимое файла удаляется, если файла не существует, создается новый.\n",
    "'x'\t| открытие на запись, если файла не существует, иначе исключение.\n",
    "'a'\t| открытие на дозапись, информация добавляется в конец файла.\n",
    "'b'\t| открытие в двоичном режиме.\n",
    "'t'\t| открытие в текстовом режиме (является значением по умолчанию).\n",
    "'+'\t| открытие на чтение и запись"
   ]
  },
  {
   "cell_type": "code",
   "execution_count": 1,
   "metadata": {},
   "outputs": [],
   "source": [
    "f = open('files/text.txt', 'r')"
   ]
  },
  {
   "cell_type": "markdown",
   "metadata": {
    "colab_type": "text",
    "id": "rVwlvjvnykoU"
   },
   "source": [
    "### Чтение из файла\n",
    "Первый - метод read, читающий весь файл целиком, если был вызван без аргументов, и n символов, если был вызван с аргументом (целым числом n)."
   ]
  },
  {
   "cell_type": "code",
   "execution_count": 2,
   "metadata": {},
   "outputs": [
    {
     "data": {
      "text/plain": [
       "'H'"
      ]
     },
     "execution_count": 2,
     "metadata": {},
     "output_type": "execute_result"
    }
   ],
   "source": [
    "f.read(1)"
   ]
  },
  {
   "cell_type": "code",
   "execution_count": 3,
   "metadata": {},
   "outputs": [
    {
     "data": {
      "text/plain": [
       "'ello SM!!\\n\\nThe end.\\n\\n'"
      ]
     },
     "execution_count": 3,
     "metadata": {},
     "output_type": "execute_result"
    }
   ],
   "source": [
    "f.read()"
   ]
  },
  {
   "cell_type": "code",
   "execution_count": 4,
   "metadata": {},
   "outputs": [
    {
     "data": {
      "text/plain": [
       "''"
      ]
     },
     "execution_count": 4,
     "metadata": {},
     "output_type": "execute_result"
    }
   ],
   "source": [
    "f.read()"
   ]
  },
  {
   "cell_type": "code",
   "execution_count": 5,
   "metadata": {},
   "outputs": [],
   "source": [
    "f.close()"
   ]
  },
  {
   "cell_type": "code",
   "execution_count": 6,
   "metadata": {},
   "outputs": [
    {
     "name": "stdout",
     "output_type": "stream",
     "text": [
      "Hello SM!!\n",
      "\n",
      "The end.\n",
      "\n",
      "\n"
     ]
    }
   ],
   "source": [
    "f = open('files/text.txt', 'r')\n",
    "print(f.read()\n",
    "     \n",
    "     \n",
    "     \n",
    "     )\n",
    "\n",
    "f.close()"
   ]
  },
  {
   "cell_type": "code",
   "execution_count": 7,
   "metadata": {},
   "outputs": [
    {
     "name": "stdout",
     "output_type": "stream",
     "text": [
      "Hello SM!!\n",
      "\n",
      "The end.\n",
      "\n",
      "\n"
     ]
    }
   ],
   "source": [
    "with open('files/text.txt', 'r') as f:\n",
    "    print(f.read())"
   ]
  },
  {
   "cell_type": "code",
   "execution_count": 8,
   "metadata": {},
   "outputs": [
    {
     "name": "stdout",
     "output_type": "stream",
     "text": [
      "['Hello SM!!\\n', '\\n', 'The end.\\n', '\\n']\n"
     ]
    }
   ],
   "source": [
    "with open('files/text.txt', 'r') as f:\n",
    "    print(f.readlines()) "
   ]
  },
  {
   "cell_type": "code",
   "execution_count": 9,
   "metadata": {},
   "outputs": [
    {
     "name": "stdout",
     "output_type": "stream",
     "text": [
      "1 Hello SM!!\n",
      "\n",
      "2 \n",
      "\n",
      "3 The end.\n",
      "\n",
      "4 \n",
      "\n"
     ]
    }
   ],
   "source": [
    "with open('files/text.txt', 'r') as f:\n",
    "    print('1', f.readline())\n",
    "    print('2', f.readline())\n",
    "    print('3', f.readline())\n",
    "    print('4', f.readline())"
   ]
  },
  {
   "cell_type": "code",
   "execution_count": 10,
   "metadata": {},
   "outputs": [
    {
     "name": "stdout",
     "output_type": "stream",
     "text": [
      "### Hello SM!!\n",
      "\n",
      "### \n",
      "\n",
      "### The end.\n",
      "\n",
      "### \n",
      "\n"
     ]
    }
   ],
   "source": [
    "with open('files/text.txt', 'r') as f:\n",
    "    for line in f:\n",
    "        print('###', line)"
   ]
  },
  {
   "cell_type": "markdown",
   "metadata": {
    "colab_type": "text",
    "id": "LP8Nu2F_ykrT"
   },
   "source": [
    "### Запись в файл\n",
    "Теперь рассмотрим запись в файл. Попробуем записать в файл вот такой вот список:"
   ]
  },
  {
   "cell_type": "code",
   "execution_count": 11,
   "metadata": {},
   "outputs": [
    {
     "data": {
      "text/plain": [
       "['0-1',\n",
       " '10',\n",
       " '21',\n",
       " '32',\n",
       " '43',\n",
       " '54',\n",
       " '65',\n",
       " '76',\n",
       " '87',\n",
       " '98',\n",
       " '109',\n",
       " '1110',\n",
       " '1211']"
      ]
     },
     "execution_count": 11,
     "metadata": {},
     "output_type": "execute_result"
    }
   ],
   "source": [
    "lst = [str(i)+str(i-1) for i in range(13)]\n",
    "lst"
   ]
  },
  {
   "cell_type": "code",
   "execution_count": 12,
   "metadata": {},
   "outputs": [
    {
     "ename": "TypeError",
     "evalue": "write() argument must be str, not list",
     "output_type": "error",
     "traceback": [
      "\u001b[1;31m---------------------------------------------------------------------------\u001b[0m",
      "\u001b[1;31mTypeError\u001b[0m                                 Traceback (most recent call last)",
      "\u001b[1;32m<ipython-input-12-2c994c14eacc>\u001b[0m in \u001b[0;36m<module>\u001b[1;34m\u001b[0m\n\u001b[0;32m      1\u001b[0m \u001b[1;32mwith\u001b[0m \u001b[0mopen\u001b[0m\u001b[1;33m(\u001b[0m\u001b[1;34m'files/text_w.txt'\u001b[0m\u001b[1;33m,\u001b[0m \u001b[1;34m'w'\u001b[0m\u001b[1;33m)\u001b[0m \u001b[1;32mas\u001b[0m \u001b[0mf\u001b[0m\u001b[1;33m:\u001b[0m\u001b[1;33m\u001b[0m\u001b[1;33m\u001b[0m\u001b[0m\n\u001b[1;32m----> 2\u001b[1;33m     \u001b[0mf\u001b[0m\u001b[1;33m.\u001b[0m\u001b[0mwrite\u001b[0m\u001b[1;33m(\u001b[0m\u001b[0mlst\u001b[0m\u001b[1;33m)\u001b[0m\u001b[1;33m\u001b[0m\u001b[1;33m\u001b[0m\u001b[0m\n\u001b[0m",
      "\u001b[1;31mTypeError\u001b[0m: write() argument must be str, not list"
     ]
    }
   ],
   "source": [
    "with open('files/text_w.txt', 'w') as f:\n",
    "    f.write(lst)"
   ]
  },
  {
   "cell_type": "code",
   "execution_count": 13,
   "metadata": {},
   "outputs": [],
   "source": [
    "with open('files/text_w.txt', 'w') as f:\n",
    "    f.write(str(lst))"
   ]
  },
  {
   "cell_type": "code",
   "execution_count": 14,
   "metadata": {},
   "outputs": [
    {
     "data": {
      "text/plain": [
       "\"['0-1', '10', '21', '32', '43', '54', '65', '76', '87', '98', '109', '1110', '1211']\""
      ]
     },
     "execution_count": 14,
     "metadata": {},
     "output_type": "execute_result"
    }
   ],
   "source": [
    "with open('files/text_w.txt', 'r') as f:\n",
    "    lst_f = f.read()\n",
    "lst_f"
   ]
  },
  {
   "cell_type": "code",
   "execution_count": 15,
   "metadata": {},
   "outputs": [
    {
     "data": {
      "text/plain": [
       "'0-1\\n10\\n21\\n32\\n43\\n54\\n65\\n76\\n87\\n98\\n109\\n1110\\n1211\\n'"
      ]
     },
     "execution_count": 15,
     "metadata": {},
     "output_type": "execute_result"
    }
   ],
   "source": [
    "with open('files/text_w.txt', 'w') as f:\n",
    "    for index in lst:\n",
    "        f.write(index + '\\n')\n",
    "        \n",
    "with open('files/text_w.txt', 'r') as f:\n",
    "    lst_f = f.read()\n",
    "lst_f"
   ]
  },
  {
   "cell_type": "code",
   "execution_count": 16,
   "metadata": {},
   "outputs": [
    {
     "data": {
      "text/plain": [
       "['0-1\\n',\n",
       " '10\\n',\n",
       " '21\\n',\n",
       " '32\\n',\n",
       " '43\\n',\n",
       " '54\\n',\n",
       " '65\\n',\n",
       " '76\\n',\n",
       " '87\\n',\n",
       " '98\\n',\n",
       " '109\\n',\n",
       " '1110\\n',\n",
       " '1211\\n']"
      ]
     },
     "execution_count": 16,
     "metadata": {},
     "output_type": "execute_result"
    }
   ],
   "source": [
    "with open('files/text_w.txt', 'r') as f:\n",
    "    lst2 = [line for line in f]\n",
    "lst2"
   ]
  },
  {
   "cell_type": "code",
   "execution_count": 17,
   "metadata": {},
   "outputs": [
    {
     "data": {
      "text/plain": [
       "['0-1',\n",
       " '10',\n",
       " '21',\n",
       " '32',\n",
       " '43',\n",
       " '54',\n",
       " '65',\n",
       " '76',\n",
       " '87',\n",
       " '98',\n",
       " '109',\n",
       " '1110',\n",
       " '1211']"
      ]
     },
     "execution_count": 17,
     "metadata": {},
     "output_type": "execute_result"
    }
   ],
   "source": [
    "with open('files/text_w.txt', 'r') as f:\n",
    "    lst2 = [line.strip() for line in f]\n",
    "lst2"
   ]
  },
  {
   "cell_type": "code",
   "execution_count": 18,
   "metadata": {},
   "outputs": [
    {
     "data": {
      "text/plain": [
       "'0-1\\n10\\n21\\n32\\n43\\n54\\n65\\n76\\n87\\n98\\n109\\n1110\\n1211\\n0-1\\n10\\n21\\n32\\n43\\n54\\n65\\n76\\n87\\n98\\n109\\n1110\\n1211\\n'"
      ]
     },
     "execution_count": 18,
     "metadata": {},
     "output_type": "execute_result"
    }
   ],
   "source": [
    "with open('files/text_w.txt', 'a') as f:\n",
    "    for index in lst:\n",
    "        f.write(index + '\\n')\n",
    "        \n",
    "with open('files/text_w.txt', 'r') as f:\n",
    "    lst_f = f.read()\n",
    "lst_f"
   ]
  },
  {
   "cell_type": "code",
   "execution_count": 19,
   "metadata": {},
   "outputs": [
    {
     "data": {
      "text/plain": [
       "['0-1',\n",
       " '10',\n",
       " '21',\n",
       " '32',\n",
       " '43',\n",
       " '54',\n",
       " '65',\n",
       " '76',\n",
       " '87',\n",
       " '98',\n",
       " '109',\n",
       " '1110',\n",
       " '1211',\n",
       " '0-1',\n",
       " '10',\n",
       " '21',\n",
       " '32',\n",
       " '43',\n",
       " '54',\n",
       " '65',\n",
       " '76',\n",
       " '87',\n",
       " '98',\n",
       " '109',\n",
       " '1110',\n",
       " '1211']"
      ]
     },
     "execution_count": 19,
     "metadata": {},
     "output_type": "execute_result"
    }
   ],
   "source": [
    "with open('files/text_w.txt', 'r') as f:\n",
    "    lst2 = [line.strip() for line in f]\n",
    "lst2"
   ]
  },
  {
   "cell_type": "markdown",
   "metadata": {
    "colab_type": "text",
    "id": "w6fbTjkfyht7"
   },
   "source": [
    "### CSV файлы\n",
    "\n",
    "Одним из распространенных файловых форматов, которые хранят в удобном виде информацию, является формат **csv**. Каждая строка в файле csv представляет отдельную запись или строку, которая состоит из отдельных столбцов, разделенных запятыми. Собственно поэтому формат и называется Comma Separated Values. Но хотя формат csv - это формат текстовых файлов, Python для упрощения работы с ним предоставляет специальный встроенный модуль **csv**."
   ]
  },
  {
   "cell_type": "code",
   "execution_count": 21,
   "metadata": {},
   "outputs": [],
   "source": [
    "import csv\n",
    "\n",
    "FILENAME = \"files/users.csv\"\n",
    "\n",
    "users = [\n",
    "    [\"Tom\", 28],\n",
    "    [\"Alice\", 23],\n",
    "    [\"Bob\", 34]\n",
    "]\n",
    "\n",
    "with open(FILENAME, \"w\", newline=\"\") as file:\n",
    "    writer = csv.writer(file, delimiter=\"|\")\n",
    "    writer.writerows(users)"
   ]
  },
  {
   "cell_type": "code",
   "execution_count": 22,
   "metadata": {},
   "outputs": [],
   "source": [
    "with open(FILENAME, \"a\", newline=\"\") as file:\n",
    "    user = [\"Sam\", 31]\n",
    "    writer = csv.writer(file, delimiter=\"|\")\n",
    "    writer.writerow(user)"
   ]
  },
  {
   "cell_type": "code",
   "execution_count": 23,
   "metadata": {},
   "outputs": [
    {
     "name": "stdout",
     "output_type": "stream",
     "text": [
      "Tom  -  28    <class 'str'> <class 'list'>\n",
      "Alice  -  23    <class 'str'> <class 'list'>\n",
      "Bob  -  34    <class 'str'> <class 'list'>\n",
      "Sam  -  31    <class 'str'> <class 'list'>\n"
     ]
    }
   ],
   "source": [
    "with open(FILENAME, \"r\", newline=\"\") as file:\n",
    "    reader = csv.reader(file, delimiter=\"|\")\n",
    "    for row in reader:\n",
    "        print(row[0], \" - \", row[1], '  ', type(row[1]), type(row))"
   ]
  },
  {
   "cell_type": "code",
   "execution_count": 24,
   "metadata": {},
   "outputs": [
    {
     "data": {
      "text/plain": [
       "['name', 'age']"
      ]
     },
     "execution_count": 24,
     "metadata": {},
     "output_type": "execute_result"
    }
   ],
   "source": [
    "users = [\n",
    "    {\"name\": \"Tom\", \"age\": 28},\n",
    "    {\"name\": \"Alice\", \"age\": 23},\n",
    "    {\"name\": \"Bob\", \"age\": 34}\n",
    "]\n",
    "columns = users[0].keys()\n",
    "list(columns)"
   ]
  },
  {
   "cell_type": "code",
   "execution_count": 25,
   "metadata": {},
   "outputs": [],
   "source": [
    "FILENAME = \"files/users2.csv\"\n",
    " \n",
    "users = [\n",
    "    {\"name\": \"Tom\", \"age\": 28},\n",
    "    {\"name\": \"Alice\", \"age\": 23},\n",
    "    {\"name\": \"Bob\", \"age\": 34}\n",
    "]\n",
    " \n",
    "with open(FILENAME, \"w\", newline=\"\") as file:\n",
    "    columns = users[0].keys()\n",
    "    writer = csv.DictWriter(file, fieldnames=columns, delimiter=\";\")\n",
    "    writer.writeheader()\n",
    "     \n",
    "    # запись нескольких строк\n",
    "    writer.writerows(users)\n",
    "     \n",
    "    user = {\"name\" : \"Sam\", \"age\": 41}\n",
    "    # запись одной строки\n",
    "    writer.writerow(user)"
   ]
  },
  {
   "cell_type": "code",
   "execution_count": 26,
   "metadata": {},
   "outputs": [
    {
     "name": "stdout",
     "output_type": "stream",
     "text": [
      "name  -  age\n",
      "Tom  -  28\n",
      "Alice  -  23\n",
      "Bob  -  34\n",
      "Sam  -  41\n"
     ]
    }
   ],
   "source": [
    "with open(FILENAME, \"r\", newline=\"\") as file:\n",
    "    reader = csv.reader(file, delimiter=\";\")\n",
    "    for row in reader:\n",
    "        print(row[0], \" - \", row[1])"
   ]
  },
  {
   "cell_type": "code",
   "execution_count": 27,
   "metadata": {},
   "outputs": [
    {
     "data": {
      "text/plain": [
       "[OrderedDict([('name', 'Tom'), ('age', '28')]),\n",
       " OrderedDict([('name', 'Alice'), ('age', '23')]),\n",
       " OrderedDict([('name', 'Bob'), ('age', '34')]),\n",
       " OrderedDict([('name', 'Sam'), ('age', '41')])]"
      ]
     },
     "execution_count": 27,
     "metadata": {},
     "output_type": "execute_result"
    }
   ],
   "source": [
    "with open(FILENAME, \"r\", newline=\"\") as file:\n",
    "    reader = csv.DictReader(file, delimiter=\";\")\n",
    "    d = list(reader)\n",
    "d"
   ]
  },
  {
   "cell_type": "code",
   "execution_count": 28,
   "metadata": {},
   "outputs": [
    {
     "data": {
      "text/plain": [
       "OrderedDict([('name', 'Alice'), ('age', '23')])"
      ]
     },
     "execution_count": 28,
     "metadata": {},
     "output_type": "execute_result"
    }
   ],
   "source": [
    "d[1]"
   ]
  },
  {
   "cell_type": "code",
   "execution_count": 29,
   "metadata": {},
   "outputs": [
    {
     "data": {
      "text/plain": [
       "'23'"
      ]
     },
     "execution_count": 29,
     "metadata": {},
     "output_type": "execute_result"
    }
   ],
   "source": [
    "d[1]['age']"
   ]
  },
  {
   "cell_type": "markdown",
   "metadata": {
    "colab_type": "text",
    "id": "ee-o9T4KyeJb"
   },
   "source": [
    "### Формат JSON\n",
    "\n",
    "Данные в формате JSON (RFC 4627) представляют собой:\n",
    "\n",
    "- объекты { ... } или\n",
    "- массивы [ ... ] или\n",
    "- Значения одного из типов:\n",
    "- строки в двойных кавычках,\n",
    "- число,\n",
    "- логическое значение true/false,\n",
    "- null."
   ]
  },
  {
   "cell_type": "markdown",
   "metadata": {
    "colab_type": "text",
    "id": "h7yQ2djeyeJU"
   },
   "source": [
    "**JSON (JavaScript Object Notation)** - простой формат обмена данными, основанный на подмножестве синтаксиса JavaScript. Модуль json позволяет кодировать и декодировать данные в удобном формате."
   ]
  },
  {
   "cell_type": "markdown",
   "metadata": {
    "colab_type": "text",
    "id": "RPQRA-YnyeJg"
   },
   "source": [
    "#### Пример\n",
    "\n",
    "{\n",
    "```\n",
    "\"firstName\": \"Иван\",  \n",
    "\"lastName\": \"Иванов\",  \n",
    "\"address\": {\n",
    "```\n",
    "       \"streetAddress\": \"Московское ш., 101, кв.101\",\n",
    "       \"city\": \"Ленинград\",\n",
    "       \"postalCode\": 101101\n",
    "   ```\n",
    "   },\n",
    "\"phoneNumbers\": [\n",
    "   \"812 123-1234\",\n",
    "   \"916 123-4567\"\n",
    "]\n",
    "```\n",
    "}"
   ]
  },
  {
   "cell_type": "code",
   "execution_count": 30,
   "metadata": {},
   "outputs": [
    {
     "data": {
      "text/plain": [
       "['foo', {'bar': ('baz', None, True, 2, 3.33), 'bar2': 33}, 'foo3']"
      ]
     },
     "execution_count": 30,
     "metadata": {},
     "output_type": "execute_result"
    }
   ],
   "source": [
    "a = [\n",
    "    'foo', \n",
    "     {\n",
    "         'bar' : ('baz', None, True, 2, 3.33),\n",
    "         'bar2': 33\n",
    "     },\n",
    "     'foo3'\n",
    "    ]\n",
    "a "
   ]
  },
  {
   "cell_type": "code",
   "execution_count": 31,
   "metadata": {},
   "outputs": [
    {
     "data": {
      "text/plain": [
       "'[\"foo\", {\"bar\": [\"baz\", null, true, 2, 3.33], \"bar2\": 33}, \"foo3\"]'"
      ]
     },
     "execution_count": 31,
     "metadata": {},
     "output_type": "execute_result"
    }
   ],
   "source": [
    "import json\n",
    "\n",
    "b = json.dumps(a)\n",
    "b"
   ]
  },
  {
   "cell_type": "code",
   "execution_count": 33,
   "metadata": {},
   "outputs": [
    {
     "name": "stdout",
     "output_type": "stream",
     "text": [
      "[\n",
      "  \"foo\",\n",
      "  {\n",
      "    \"bar\": [\n",
      "      \"baz\",\n",
      "      null,\n",
      "      true,\n",
      "      2,\n",
      "      3.33\n",
      "    ],\n",
      "    \"bar2\": 33\n",
      "  },\n",
      "  \"foo3\"\n",
      "]\n"
     ]
    }
   ],
   "source": [
    "print(json.dumps(a, indent=2))"
   ]
  },
  {
   "cell_type": "code",
   "execution_count": 34,
   "metadata": {},
   "outputs": [
    {
     "data": {
      "text/plain": [
       "(['foo', {'bar': ['baz', None, True, 2, 3.33], 'bar2': 33}, 'foo3'],\n",
       " ['foo', {'bar': ('baz', None, True, 2, 3.33), 'bar2': 33}, 'foo3'])"
      ]
     },
     "execution_count": 34,
     "metadata": {},
     "output_type": "execute_result"
    }
   ],
   "source": [
    "json.loads(b), a"
   ]
  },
  {
   "cell_type": "markdown",
   "metadata": {
    "colab_type": "text",
    "id": "5UUGAzTwyeKd"
   },
   "source": [
    "# Запомнить!\n",
    "**Ключи в парах ключ/значение в JSON всегда являются строками. Когда словарь конвертируется в JSON, все ключи словаря преобразовываются в строки. В результате этого, если словарь сначала преобразовать в JSON, а потом обратно в словарь, то можно не получить словарь, идентичный исходному. Другими словами, loads(dumps(x)) != x, если x имеет нестроковые ключи**"
   ]
  },
  {
   "cell_type": "markdown",
   "metadata": {
    "colab_type": "text",
    "id": "QcLo-Y2AyeKh"
   },
   "source": [
    "### Декодирование\n",
    "\n",
    "JSON\t|  Python\n",
    ":-------|:----------\n",
    "object\t|dict\n",
    "array\t|list\n",
    "string\t|str\n",
    "number (int)\t|int\n",
    "number (real)\t|float\n",
    "true\t|True\n",
    "false\t|False\n",
    "null\t|None"
   ]
  },
  {
   "cell_type": "markdown",
   "metadata": {
    "colab_type": "text",
    "id": "YkkGB_xjyeKk"
   },
   "source": [
    "### Кодирование\n",
    "\n",
    "Python\t| JSON\n",
    ":------------|:----------\n",
    "dict\t|object\n",
    "list, tuple\t|array\n",
    "str\t|string\n",
    "int, float\t|number\n",
    "True\t|true\n",
    "False\t|false\n",
    "None\t|null"
   ]
  },
  {
   "cell_type": "code",
   "execution_count": 35,
   "metadata": {},
   "outputs": [],
   "source": [
    "with open(\"files/JSON_tst.json\", 'w') as outfile:\n",
    "    json.dump(a, outfile, indent=4)"
   ]
  },
  {
   "cell_type": "code",
   "execution_count": 36,
   "metadata": {},
   "outputs": [
    {
     "data": {
      "text/plain": [
       "['foo', {'bar': ['baz', None, True, 2, 3.33], 'bar2': 33}, 'foo3']"
      ]
     },
     "execution_count": 36,
     "metadata": {},
     "output_type": "execute_result"
    }
   ],
   "source": [
    "with open(\"files/JSON_tst.json\", 'r') as outfile:\n",
    "    c = json.load(outfile)\n",
    "c"
   ]
  },
  {
   "cell_type": "code",
   "execution_count": 37,
   "metadata": {},
   "outputs": [],
   "source": [
    "import numpy as np\n",
    "\n",
    "ar = np.array([1,2,3,4,5,6], dtype=np.float64)"
   ]
  },
  {
   "cell_type": "code",
   "execution_count": 38,
   "metadata": {},
   "outputs": [
    {
     "ename": "TypeError",
     "evalue": "Object of type ndarray is not JSON serializable",
     "output_type": "error",
     "traceback": [
      "\u001b[1;31m---------------------------------------------------------------------------\u001b[0m",
      "\u001b[1;31mTypeError\u001b[0m                                 Traceback (most recent call last)",
      "\u001b[1;32m<ipython-input-38-828d1249fd7a>\u001b[0m in \u001b[0;36m<module>\u001b[1;34m\u001b[0m\n\u001b[1;32m----> 1\u001b[1;33m \u001b[0mjson\u001b[0m\u001b[1;33m.\u001b[0m\u001b[0mdumps\u001b[0m\u001b[1;33m(\u001b[0m\u001b[0mar\u001b[0m\u001b[1;33m)\u001b[0m\u001b[1;33m\u001b[0m\u001b[1;33m\u001b[0m\u001b[0m\n\u001b[0m",
      "\u001b[1;32mC:\\ProgramData\\Anaconda3\\lib\\json\\__init__.py\u001b[0m in \u001b[0;36mdumps\u001b[1;34m(obj, skipkeys, ensure_ascii, check_circular, allow_nan, cls, indent, separators, default, sort_keys, **kw)\u001b[0m\n\u001b[0;32m    229\u001b[0m         \u001b[0mcls\u001b[0m \u001b[1;32mis\u001b[0m \u001b[1;32mNone\u001b[0m \u001b[1;32mand\u001b[0m \u001b[0mindent\u001b[0m \u001b[1;32mis\u001b[0m \u001b[1;32mNone\u001b[0m \u001b[1;32mand\u001b[0m \u001b[0mseparators\u001b[0m \u001b[1;32mis\u001b[0m \u001b[1;32mNone\u001b[0m \u001b[1;32mand\u001b[0m\u001b[1;33m\u001b[0m\u001b[1;33m\u001b[0m\u001b[0m\n\u001b[0;32m    230\u001b[0m         default is None and not sort_keys and not kw):\n\u001b[1;32m--> 231\u001b[1;33m         \u001b[1;32mreturn\u001b[0m \u001b[0m_default_encoder\u001b[0m\u001b[1;33m.\u001b[0m\u001b[0mencode\u001b[0m\u001b[1;33m(\u001b[0m\u001b[0mobj\u001b[0m\u001b[1;33m)\u001b[0m\u001b[1;33m\u001b[0m\u001b[1;33m\u001b[0m\u001b[0m\n\u001b[0m\u001b[0;32m    232\u001b[0m     \u001b[1;32mif\u001b[0m \u001b[0mcls\u001b[0m \u001b[1;32mis\u001b[0m \u001b[1;32mNone\u001b[0m\u001b[1;33m:\u001b[0m\u001b[1;33m\u001b[0m\u001b[1;33m\u001b[0m\u001b[0m\n\u001b[0;32m    233\u001b[0m         \u001b[0mcls\u001b[0m \u001b[1;33m=\u001b[0m \u001b[0mJSONEncoder\u001b[0m\u001b[1;33m\u001b[0m\u001b[1;33m\u001b[0m\u001b[0m\n",
      "\u001b[1;32mC:\\ProgramData\\Anaconda3\\lib\\json\\encoder.py\u001b[0m in \u001b[0;36mencode\u001b[1;34m(self, o)\u001b[0m\n\u001b[0;32m    197\u001b[0m         \u001b[1;31m# exceptions aren't as detailed.  The list call should be roughly\u001b[0m\u001b[1;33m\u001b[0m\u001b[1;33m\u001b[0m\u001b[1;33m\u001b[0m\u001b[0m\n\u001b[0;32m    198\u001b[0m         \u001b[1;31m# equivalent to the PySequence_Fast that ''.join() would do.\u001b[0m\u001b[1;33m\u001b[0m\u001b[1;33m\u001b[0m\u001b[1;33m\u001b[0m\u001b[0m\n\u001b[1;32m--> 199\u001b[1;33m         \u001b[0mchunks\u001b[0m \u001b[1;33m=\u001b[0m \u001b[0mself\u001b[0m\u001b[1;33m.\u001b[0m\u001b[0miterencode\u001b[0m\u001b[1;33m(\u001b[0m\u001b[0mo\u001b[0m\u001b[1;33m,\u001b[0m \u001b[0m_one_shot\u001b[0m\u001b[1;33m=\u001b[0m\u001b[1;32mTrue\u001b[0m\u001b[1;33m)\u001b[0m\u001b[1;33m\u001b[0m\u001b[1;33m\u001b[0m\u001b[0m\n\u001b[0m\u001b[0;32m    200\u001b[0m         \u001b[1;32mif\u001b[0m \u001b[1;32mnot\u001b[0m \u001b[0misinstance\u001b[0m\u001b[1;33m(\u001b[0m\u001b[0mchunks\u001b[0m\u001b[1;33m,\u001b[0m \u001b[1;33m(\u001b[0m\u001b[0mlist\u001b[0m\u001b[1;33m,\u001b[0m \u001b[0mtuple\u001b[0m\u001b[1;33m)\u001b[0m\u001b[1;33m)\u001b[0m\u001b[1;33m:\u001b[0m\u001b[1;33m\u001b[0m\u001b[1;33m\u001b[0m\u001b[0m\n\u001b[0;32m    201\u001b[0m             \u001b[0mchunks\u001b[0m \u001b[1;33m=\u001b[0m \u001b[0mlist\u001b[0m\u001b[1;33m(\u001b[0m\u001b[0mchunks\u001b[0m\u001b[1;33m)\u001b[0m\u001b[1;33m\u001b[0m\u001b[1;33m\u001b[0m\u001b[0m\n",
      "\u001b[1;32mC:\\ProgramData\\Anaconda3\\lib\\json\\encoder.py\u001b[0m in \u001b[0;36miterencode\u001b[1;34m(self, o, _one_shot)\u001b[0m\n\u001b[0;32m    255\u001b[0m                 \u001b[0mself\u001b[0m\u001b[1;33m.\u001b[0m\u001b[0mkey_separator\u001b[0m\u001b[1;33m,\u001b[0m \u001b[0mself\u001b[0m\u001b[1;33m.\u001b[0m\u001b[0mitem_separator\u001b[0m\u001b[1;33m,\u001b[0m \u001b[0mself\u001b[0m\u001b[1;33m.\u001b[0m\u001b[0msort_keys\u001b[0m\u001b[1;33m,\u001b[0m\u001b[1;33m\u001b[0m\u001b[1;33m\u001b[0m\u001b[0m\n\u001b[0;32m    256\u001b[0m                 self.skipkeys, _one_shot)\n\u001b[1;32m--> 257\u001b[1;33m         \u001b[1;32mreturn\u001b[0m \u001b[0m_iterencode\u001b[0m\u001b[1;33m(\u001b[0m\u001b[0mo\u001b[0m\u001b[1;33m,\u001b[0m \u001b[1;36m0\u001b[0m\u001b[1;33m)\u001b[0m\u001b[1;33m\u001b[0m\u001b[1;33m\u001b[0m\u001b[0m\n\u001b[0m\u001b[0;32m    258\u001b[0m \u001b[1;33m\u001b[0m\u001b[0m\n\u001b[0;32m    259\u001b[0m def _make_iterencode(markers, _default, _encoder, _indent, _floatstr,\n",
      "\u001b[1;32mC:\\ProgramData\\Anaconda3\\lib\\json\\encoder.py\u001b[0m in \u001b[0;36mdefault\u001b[1;34m(self, o)\u001b[0m\n\u001b[0;32m    177\u001b[0m \u001b[1;33m\u001b[0m\u001b[0m\n\u001b[0;32m    178\u001b[0m         \"\"\"\n\u001b[1;32m--> 179\u001b[1;33m         raise TypeError(f'Object of type {o.__class__.__name__} '\n\u001b[0m\u001b[0;32m    180\u001b[0m                         f'is not JSON serializable')\n\u001b[0;32m    181\u001b[0m \u001b[1;33m\u001b[0m\u001b[0m\n",
      "\u001b[1;31mTypeError\u001b[0m: Object of type ndarray is not JSON serializable"
     ]
    }
   ],
   "source": [
    "json.dumps(ar)"
   ]
  },
  {
   "cell_type": "code",
   "execution_count": 39,
   "metadata": {},
   "outputs": [
    {
     "data": {
      "text/plain": [
       "'[1.0, 2.0, 3.0, 4.0, 5.0, 6.0]'"
      ]
     },
     "execution_count": 39,
     "metadata": {},
     "output_type": "execute_result"
    }
   ],
   "source": [
    "ar_s = json.dumps(ar.tolist())\n",
    "ar_s"
   ]
  },
  {
   "cell_type": "code",
   "execution_count": 40,
   "metadata": {},
   "outputs": [
    {
     "data": {
      "text/plain": [
       "array([1., 2., 3., 4., 5., 6.])"
      ]
     },
     "execution_count": 40,
     "metadata": {},
     "output_type": "execute_result"
    }
   ],
   "source": [
    "ar_new = np.array(json.loads(ar_s))\n",
    "ar_new"
   ]
  },
  {
   "cell_type": "code",
   "execution_count": 41,
   "metadata": {},
   "outputs": [
    {
     "data": {
      "text/plain": [
       "array([[1., 2., 3.],\n",
       "       [4., 5., 6.]])"
      ]
     },
     "execution_count": 41,
     "metadata": {},
     "output_type": "execute_result"
    }
   ],
   "source": [
    "ar = np.array([1,2,3,4,5,6], dtype=np.float64)\n",
    "ar = ar.reshape(2,3)\n",
    "ar"
   ]
  },
  {
   "cell_type": "code",
   "execution_count": 42,
   "metadata": {},
   "outputs": [
    {
     "data": {
      "text/plain": [
       "'[[1.0, 2.0, 3.0], [4.0, 5.0, 6.0]]'"
      ]
     },
     "execution_count": 42,
     "metadata": {},
     "output_type": "execute_result"
    }
   ],
   "source": [
    "ar_s = json.dumps(ar.tolist())\n",
    "ar_s"
   ]
  },
  {
   "cell_type": "code",
   "execution_count": 43,
   "metadata": {},
   "outputs": [
    {
     "data": {
      "text/plain": [
       "array([[1., 2., 3.],\n",
       "       [4., 5., 6.]])"
      ]
     },
     "execution_count": 43,
     "metadata": {},
     "output_type": "execute_result"
    }
   ],
   "source": [
    "ar_new = np.array(json.loads(ar_s))\n",
    "ar_new"
   ]
  },
  {
   "cell_type": "markdown",
   "metadata": {},
   "source": [
    "### Бинарные файлы"
   ]
  },
  {
   "cell_type": "code",
   "execution_count": 47,
   "metadata": {},
   "outputs": [],
   "source": [
    "np.save('files/ar_new.npy', [ar_new, {'k':123}])"
   ]
  },
  {
   "cell_type": "code",
   "execution_count": 50,
   "metadata": {},
   "outputs": [
    {
     "data": {
      "text/plain": [
       "array([array([[1., 2., 3.],\n",
       "       [4., 5., 6.]]), {'k': 123}], dtype=object)"
      ]
     },
     "execution_count": 50,
     "metadata": {},
     "output_type": "execute_result"
    }
   ],
   "source": [
    "ar_new2 = np.load('files/ar_new.npy', allow_pickle=True)\n",
    "ar_new2"
   ]
  },
  {
   "cell_type": "code",
   "execution_count": 51,
   "metadata": {},
   "outputs": [
    {
     "name": "stdout",
     "output_type": "stream",
     "text": [
      "a=1, b=[1, 2, 3, 4], c={'5': 6, 7: '8'}, d=[[ 7  8  9]\n",
      " [10 11 12]]\n"
     ]
    }
   ],
   "source": [
    "import pickle\n",
    "\n",
    "class SomeClass(object):\n",
    "    def __init__(self):\n",
    "        self.a = 1\n",
    "        self.b = [1,2,3,4]\n",
    "        self.c = {'5': 6, 7: '8'}\n",
    "        self.d = np.array([[7,8,9],[10,11,12]])\n",
    "        \n",
    "        \n",
    "    def __str__(self):\n",
    "        return f'a={self.a}, b={self.b}, c={self.c}, d={self.d}'\n",
    "\n",
    "ob = SomeClass()\n",
    "print(ob)"
   ]
  },
  {
   "cell_type": "code",
   "execution_count": 52,
   "metadata": {},
   "outputs": [],
   "source": [
    "with open('files/pickle.bin', 'wb') as f:\n",
    "    pickle.dump(ob, f)"
   ]
  },
  {
   "cell_type": "code",
   "execution_count": 53,
   "metadata": {},
   "outputs": [
    {
     "name": "stdout",
     "output_type": "stream",
     "text": [
      "a=1, b=[1, 2, 3, 4], c={'5': 6, 7: '8'}, d=[[ 7  8  9]\n",
      " [10 11 12]]\n"
     ]
    }
   ],
   "source": [
    "with open('files/pickle.bin', 'rb') as f:\n",
    "    ob2 = pickle.load(f)\n",
    "print(ob2)"
   ]
  },
  {
   "cell_type": "code",
   "execution_count": null,
   "metadata": {},
   "outputs": [],
   "source": []
  }
 ],
 "metadata": {
  "kernelspec": {
   "display_name": "Python 3",
   "language": "python",
   "name": "python3"
  },
  "language_info": {
   "codemirror_mode": {
    "name": "ipython",
    "version": 3
   },
   "file_extension": ".py",
   "mimetype": "text/x-python",
   "name": "python",
   "nbconvert_exporter": "python",
   "pygments_lexer": "ipython3",
   "version": "3.7.7"
  }
 },
 "nbformat": 4,
 "nbformat_minor": 4
}
