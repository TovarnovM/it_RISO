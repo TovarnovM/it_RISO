{
 "cells": [
  {
   "cell_type": "markdown",
   "metadata": {
    "colab_type": "text",
    "id": "fUMY7-PCqtBo"
   },
   "source": [
    "# Итак, что же такое «декоратор»?\n",
    "вот пример того, как работают декораторы:"
   ]
  },
  {
   "cell_type": "code",
   "execution_count": 3,
   "metadata": {
    "colab": {},
    "colab_type": "code",
    "id": "RjkhfrCBqtBq",
    "outputId": "bb6fc77b-6829-4974-d7e7-caa041279372"
   },
   "outputs": [
    {
     "name": "stdout",
     "output_type": "stream",
     "text": [
      "<b><i>hello -_-</i></b>\n"
     ]
    }
   ],
   "source": [
    "def makebold(fn):\n",
    "    def wrapped():\n",
    "        return \"<b>\" + fn() + \"</b>\"\n",
    "    return wrapped\n",
    " \n",
    "def makeitalic(fn):\n",
    "    def wrapped():\n",
    "        return \"<i>\" + fn() + \"</i>\"\n",
    "    return wrapped\n",
    " \n",
    "@makebold\n",
    "@makeitalic\n",
    "def hello():\n",
    "    return \"hello -_-\"\n",
    "\n",
    "# foo2 = makeitalic(hello)\n",
    " \n",
    "print (hello())\n",
    "# print(foo2())"
   ]
  },
  {
   "cell_type": "markdown",
   "metadata": {
    "colab_type": "text",
    "id": "0HeXpgX5qtBv"
   },
   "source": [
    "# Функции в Python'e являются объектами\n",
    "\n",
    "Для того, чтобы понять, как работают декораторы, в первую очередь следует осознать, что в Python'е функции — это тоже объекты.\n",
    "Давайте посмотрим, что из этого следует:"
   ]
  },
  {
   "cell_type": "code",
   "execution_count": 4,
   "metadata": {
    "colab": {},
    "colab_type": "code",
    "id": "l_UmqAPeqtBx"
   },
   "outputs": [],
   "source": [
    "def shout(word=\"да\"):\n",
    "    return word.capitalize()+\"!\""
   ]
  },
  {
   "cell_type": "code",
   "execution_count": 5,
   "metadata": {
    "colab": {},
    "colab_type": "code",
    "id": "zUOYDuo3qtB0",
    "outputId": "2862f356-1b05-4a08-f9b9-0725476c02e1"
   },
   "outputs": [
    {
     "name": "stdout",
     "output_type": "stream",
     "text": [
      "Help on method_descriptor:\n",
      "\n",
      "capitalize(self, /)\n",
      "    Return a capitalized version of the string.\n",
      "    \n",
      "    More specifically, make the first character have upper case and the rest lower\n",
      "    case.\n",
      "\n"
     ]
    }
   ],
   "source": [
    "help(str.capitalize)"
   ]
  },
  {
   "cell_type": "code",
   "execution_count": 6,
   "metadata": {
    "colab": {},
    "colab_type": "code",
    "id": "yJfMuo-rqtB5",
    "outputId": "57c0930e-d63b-4be5-c7df-a18721964ac4"
   },
   "outputs": [
    {
     "name": "stdout",
     "output_type": "stream",
     "text": [
      "Да!\n"
     ]
    }
   ],
   "source": [
    "print (shout())"
   ]
  },
  {
   "cell_type": "code",
   "execution_count": 7,
   "metadata": {
    "colab": {},
    "colab_type": "code",
    "id": "cFcEiVBOqtB9"
   },
   "outputs": [],
   "source": [
    "# Так как функция - это объект, вы связать её с переменнной,\n",
    "# как и любой другой объект\n",
    "scream = shout"
   ]
  },
  {
   "cell_type": "code",
   "execution_count": 8,
   "metadata": {
    "colab": {},
    "colab_type": "code",
    "id": "S7rIbm36qtCA",
    "outputId": "ba77b945-1aa8-4126-9b4d-8ac50a9ab7ab"
   },
   "outputs": [
    {
     "name": "stdout",
     "output_type": "stream",
     "text": [
      "Да!\n"
     ]
    }
   ],
   "source": [
    "print (scream())"
   ]
  },
  {
   "cell_type": "code",
   "execution_count": null,
   "metadata": {
    "colab": {},
    "colab_type": "code",
    "id": "uaapyRbLqtCG",
    "outputId": "65ef1b2e-5e92-49a5-b53e-1b13e361d1ee"
   },
   "outputs": [],
   "source": [
    "# Более того, это значит, что мы можем удалить \"shout\", и функция всё ещё\n",
    "# будет доступна через переменную \"scream\"\n",
    " \n",
    "del shout\n",
    "try:\n",
    "    print (shout())\n",
    "except NameError as e:\n",
    "    print (e)\n",
    "    #выведет: \"name 'shout' is not defined\""
   ]
  },
  {
   "cell_type": "code",
   "execution_count": null,
   "metadata": {
    "colab": {},
    "colab_type": "code",
    "id": "SIAtofyXqtCM",
    "outputId": "dfda6813-d14d-43b1-faa7-3ba1c47ce148"
   },
   "outputs": [],
   "source": [
    "print (scream())"
   ]
  },
  {
   "cell_type": "code",
   "execution_count": null,
   "metadata": {
    "colab": {},
    "colab_type": "code",
    "id": "u6HO2twLqtCR",
    "outputId": "2a49da60-6437-4c49-8f7c-a7df0029d1f4"
   },
   "outputs": [],
   "source": [
    "def talk():\n",
    "    # Внутри определения функции \"talk\" мы можем определить другую...\n",
    "    def whisper(word=\"да\"):\n",
    "        return word.lower()+\"...\";\n",
    " \n",
    "    # ... и сразу же её использовать!\n",
    "    print (whisper())\n",
    "    # Теперь, КАЖДЫЙ РАЗ при вызове \"talk\", внутри неё определяется а затем\n",
    "\n",
    "# и вызывается функция \"whisper\".\n",
    "talk()\n",
    "# выведет: \"да...\"\n",
    " \n",
    "# Но вне функции \"talk\" НЕ существует никакой функции \"whisper\":\n",
    "try:\n",
    "    print (whisper())\n",
    "except NameError as  e:\n",
    "    print (e)\n",
    "    #выведет : \"name 'whisper' is not defined\""
   ]
  },
  {
   "cell_type": "markdown",
   "metadata": {
    "colab_type": "text",
    "id": "7s_f4YQmqtCV"
   },
   "source": [
    "# Ссылки на функции\n",
    "\n",
    "Ну что, вы всё ещё здесь?:)\n",
    "\n",
    "Теперь мы знаем, что функции являются полноправными объектами, а значит:\n",
    "- могут быть связаны с переменной;\n",
    "- могут быть определены одна внутри другой.\n",
    "\n",
    "Что ж, а это значит, что одна функция может вернуть другую функцию!\n",
    "Давайте посмотрим:"
   ]
  },
  {
   "cell_type": "code",
   "execution_count": null,
   "metadata": {
    "colab": {},
    "colab_type": "code",
    "id": "oac92xmkqtCX"
   },
   "outputs": [],
   "source": [
    "def getTalk(t=\"shout\"):\n",
    " \n",
    "    # Мы определяем функции прямо здесь\n",
    "    def shout(word=\"да\"):\n",
    "        return word.capitalize()+t+\"!\"\n",
    " \n",
    "\n",
    "    def whisper(word=\"да\") :\n",
    "        return word.lower()+\" \"+t+\"...\";\n",
    " \n",
    "    # Затем возвращаем необходимую\n",
    "    if t == \"shout\":\n",
    "        # Заметьте, что мы НЕ используем \"()\", нам нужно не вызвать функцию,\n",
    "        # а вернуть объект функции\n",
    "        return shout\n",
    "    else:\n",
    "        return whisper"
   ]
  },
  {
   "cell_type": "code",
   "execution_count": null,
   "metadata": {
    "colab": {},
    "colab_type": "code",
    "id": "PRe1uSlNqtCa"
   },
   "outputs": [],
   "source": [
    "# Как использовать это непонятное нечто?\n",
    "# Возьмём функцию и свяжем её с переменной\n",
    "talk = getTalk()"
   ]
  },
  {
   "cell_type": "code",
   "execution_count": null,
   "metadata": {
    "colab": {},
    "colab_type": "code",
    "id": "iVyx-C2xqtCd",
    "outputId": "4e0fa466-6366-4083-8c4b-84f3c965b5d4"
   },
   "outputs": [],
   "source": [
    "# Как мы можем видеть, \"talk\" теперь - объект \"function\":\n",
    "print (talk)\n",
    "# выведет: <function shout at 0x0000026F01ED18C8>"
   ]
  },
  {
   "cell_type": "code",
   "execution_count": null,
   "metadata": {
    "colab": {},
    "colab_type": "code",
    "id": "KJuvK0CeqtCi",
    "outputId": "a218fbb1-1bfb-4faf-996e-a2011ff4b5ee"
   },
   "outputs": [],
   "source": [
    "# Который можно вызывать, как и функцию, определённую \"обычным образом\":\n",
    "print (talk())"
   ]
  },
  {
   "cell_type": "code",
   "execution_count": null,
   "metadata": {
    "colab": {},
    "colab_type": "code",
    "id": "_raA37t6qtCl",
    "outputId": "99e97a26-c33e-41c9-e7dc-e17711d1b036"
   },
   "outputs": [],
   "source": [
    "# Если нам захочется - можно вызвать её напрямую из возвращаемого значения:\n",
    "print (getTalk(\"dfgsfdgsdfg\")())\n",
    "# выведет: да..."
   ]
  },
  {
   "cell_type": "markdown",
   "metadata": {
    "colab_type": "text",
    "id": "rl1K_3UEqtCp"
   },
   "source": [
    "Подождите, раз мы можем возвращать функцию, значит, мы можем и передавать её другой функции, как параметр:"
   ]
  },
  {
   "cell_type": "code",
   "execution_count": null,
   "metadata": {
    "colab": {},
    "colab_type": "code",
    "id": "vBLbkKcxqtCq",
    "outputId": "5a0b08ae-39d3-4bdb-fb97-4fe15120873b"
   },
   "outputs": [],
   "source": [
    "def doSomethingBefore(func):\n",
    "    print (\"Я делаю что-то ещё, перед тем как вызвать функцию, которую ты мне передал\")\n",
    "    print (func())\n",
    "    \n",
    "doSomethingBefore(scream)\n",
    "#выведет:\n",
    "# Я делаю что-то ещё, перед тем как вызвать функцию, которую ты мне передал\n",
    "# Да!"
   ]
  },
  {
   "cell_type": "markdown",
   "metadata": {
    "colab_type": "text",
    "id": "rggR2p3TqtCu"
   },
   "source": [
    "Ну что, теперь у нас есть все необходимые знания для того, чтобы понять, как работают декораторы.\n",
    "Как вы могли догадаться, декораторы — это, по сути, просто своеобразные «обёртки», которые **дают нам возможность делать что-либо до и после того, что сделает декорируемая функция, не изменяя её.**\n",
    "# Создадим свой декоратор «вручную»"
   ]
  },
  {
   "cell_type": "code",
   "execution_count": null,
   "metadata": {
    "colab": {},
    "colab_type": "code",
    "id": "2TBYSeG_qtCv",
    "outputId": "8ff4578a-0f35-4145-853b-e30ad704dc05"
   },
   "outputs": [],
   "source": [
    "# Декоратор - это функция, ожидающая ДРУГУЮ функцию в качестве параметра\n",
    "def my_shiny_new_decorator(a_function_to_decorate):\n",
    "    # Внутри себя декоратор определяет функцию-\"обёртку\".\n",
    "    # Она будет (что бы вы думали?..) обёрнута вокруг декорируемой,\n",
    "    # получая возможность исполнять произвольный код до и после неё.\n",
    "\n",
    "    def the_wrapper_around_the_original_function():\n",
    "        # Поместим здесь код, который мы хотим запускать ДО вызова\n",
    "        # оригинальной функции\n",
    "        print (\"Я - код, который отработает до вызова функции\")\n",
    " \n",
    "        # ВЫЗОВЕМ саму декорируемую функцию\n",
    "        a_function_to_decorate()\n",
    "\n",
    "        # А здесь поместим код, который мы хотим запускать ПОСЛЕ вызова\n",
    "        # оригинальной функции\n",
    "        print (\"А я - код, срабатывающий после\")\n",
    "\n",
    "    # На данный момент функция \"a_function_to_decorate\" НЕ ВЫЗЫВАЛАСЬ НИ РАЗУ\n",
    "\n",
    "    # Теперь, вернём функцию-обёртку, которая содержит в себе\n",
    "    # декорируемую функцию, и код, который необходимо выполнить до и после.\n",
    "    # Всё просто!\n",
    "    return the_wrapper_around_the_original_function\n",
    "\n",
    "def a_stand_alone_function():\n",
    "    print (\"Я простая одинокая функция, ты ведь не посмеешь меня изменять?..\")\n",
    "    \n",
    "a_stand_alone_function()"
   ]
  },
  {
   "cell_type": "code",
   "execution_count": null,
   "metadata": {
    "colab": {},
    "colab_type": "code",
    "id": "Xz9bE9BrqtCy",
    "outputId": "c2fffc78-8882-4f8b-ce6c-0440ca7577f8"
   },
   "outputs": [],
   "source": [
    "a_stand_alone_function_decorated = my_shiny_new_decorator(a_stand_alone_function)\n",
    "a_stand_alone_function_decorated()"
   ]
  },
  {
   "cell_type": "markdown",
   "metadata": {
    "colab_type": "text",
    "id": "0HVD74-yqtC2"
   },
   "source": [
    "Наверное, теперь мы бы хотели, чтобы каждый раз, во время вызова a_stand_alone_function, вместо неё вызывалась a_stand_alone_function_decorated. Нет ничего проще, просто перезапишем a_stand_alone_function функцией, которую нам вернул my_shiny_new_decorator:"
   ]
  },
  {
   "cell_type": "code",
   "execution_count": null,
   "metadata": {
    "colab": {},
    "colab_type": "code",
    "id": "I8nnpQ3zqtC3",
    "outputId": "a10b2af6-021e-47f4-a221-f93c6eff1091"
   },
   "outputs": [],
   "source": [
    "a_stand_alone_function = my_shiny_new_decorator(a_stand_alone_function)\n",
    "a_stand_alone_function()"
   ]
  },
  {
   "cell_type": "markdown",
   "metadata": {
    "colab_type": "text",
    "id": "pSidYhW5qtC7"
   },
   "source": [
    "Вы ведь уже догадались, что это ровно тоже самое, что делают @декораторы.:)"
   ]
  },
  {
   "cell_type": "code",
   "execution_count": null,
   "metadata": {
    "colab": {},
    "colab_type": "code",
    "id": "HSCZyWaSqtC8",
    "outputId": "55b943eb-a6a0-4659-e4a1-a619d467c10d"
   },
   "outputs": [],
   "source": [
    "@my_shiny_new_decorator\n",
    "def another_stand_alone_function():\n",
    "    print (\"Оставь меня в покое\")\n",
    "\n",
    "another_stand_alone_function()"
   ]
  },
  {
   "cell_type": "markdown",
   "metadata": {
    "colab_type": "text",
    "id": "B2pfGfDvqtDD"
   },
   "source": [
    "Да, всё действительно так просто! @decorator — просто синтаксический сахар для конструкций вида:"
   ]
  },
  {
   "cell_type": "markdown",
   "metadata": {
    "colab_type": "text",
    "id": "zgLDomsqqtDE"
   },
   "source": [
    "Конечно, можно вкладывать декораторы друг в друга, например так:"
   ]
  },
  {
   "cell_type": "code",
   "execution_count": null,
   "metadata": {
    "colab": {},
    "colab_type": "code",
    "id": "POY-6Gf_qtDF",
    "outputId": "f2c45424-4e25-4592-8c74-1dba71e59587"
   },
   "outputs": [],
   "source": [
    "def bread(func):\n",
    "    def wrapper():\n",
    "        print (\"</------\\>\")\n",
    "        func()\n",
    "        print (\"<\\______/>\")\n",
    "    return wrapper\n",
    " \n",
    "def ingredients(func):\n",
    "    def wrapper():\n",
    "        print (\"#помидоры#\")\n",
    "        func()\n",
    "        print(\"~салат~\")\n",
    "    return wrapper\n",
    " \n",
    "def sandwich(food=\"--ветчина--\"):\n",
    "    print (food)\n",
    "\n",
    "sandwich()\n",
    "#выведет: --ветчина--\n",
    "sandwich = bread(ingredients(sandwich))\n",
    "sandwich()\n",
    "#выведет:\n",
    "# </------\\>\n",
    "# #помидоры#\n",
    "# --ветчина--\n",
    "# ~салат~\n",
    "# <\\______/>"
   ]
  },
  {
   "cell_type": "markdown",
   "metadata": {
    "colab_type": "text",
    "id": "jj7auhoGqtDM"
   },
   "source": [
    "И используя синтаксис декораторов:"
   ]
  },
  {
   "cell_type": "code",
   "execution_count": null,
   "metadata": {
    "colab": {},
    "colab_type": "code",
    "id": "lY_lds5oqtDM",
    "outputId": "d6522bc2-23ce-4f87-b21a-5b0d55af1c9b"
   },
   "outputs": [],
   "source": [
    "@bread\n",
    "@ingredients\n",
    "def sandwich(food=\"--ветчина--\"):\n",
    "    print (food)\n",
    "\n",
    "sandwich()\n",
    "#выведет:\n",
    "# </------\\>\n",
    "# #помидоры#\n",
    "# --ветчина--\n",
    "# ~салат~\n",
    "# <\\______/>"
   ]
  },
  {
   "cell_type": "markdown",
   "metadata": {
    "colab_type": "text",
    "id": "lOC_u5WYqtDR"
   },
   "source": [
    "# Как можно использовать декораторы?\n",
    "\n",
    "И в заключение, я бы хотел ответить на вопрос, который я часто слышу: зачем же нужны декораторы? Как их можно использовать?\n",
    "Декораторы могут быть использованы для расширения возможностей функций из сторонних библиотек (код которых мы не можем изменять), или для упрощения отладки (мы не хотим изменять код, который ещё не устоялся).\n",
    "Так же полезно использовать декораторы для расширения различных функций одним и тем же кодом, без повторного его переписывания каждый раз, например:"
   ]
  },
  {
   "cell_type": "code",
   "execution_count": null,
   "metadata": {
    "colab": {},
    "colab_type": "code",
    "id": "GclnzJ9RqtDT",
    "outputId": "6e606f05-459a-4243-d5e2-b6a0bcb6702b"
   },
   "outputs": [],
   "source": [
    "def benchmark(func):\n",
    "    \"\"\"\n",
    "    Декоратор, выводящий время, которое заняло\n",
    "    выполнение декорируемой функции.\n",
    "    \"\"\"\n",
    "    import time\n",
    "    def wrapper(*args, **kwargs):\n",
    "        t = time.clock()\n",
    "        res = func(*args, **kwargs)\n",
    "        print (func.__name__, time.clock() - t)\n",
    "        return res\n",
    "    return wrapper\n",
    "\n",
    "def logging(func):\n",
    "    \"\"\"\n",
    "    Декоратор, логирующий работу кода.\n",
    "    (хорошо, он просто выводит вызовы, но тут могло быть и логирование!)\n",
    "    \"\"\"\n",
    "    def wrapper(*args, **kwargs):\n",
    "        res = func(*args, **kwargs)\n",
    "        print (func.__name__, args, kwargs)\n",
    "        return res\n",
    "    return wrapper\n",
    "\n",
    "\n",
    "def counter(func):\n",
    "    \"\"\"\n",
    "    Декоратор, считающий и выводящий количество вызовов\n",
    "    декорируемой функции.\n",
    "    \"\"\"\n",
    "    def wrapper(*args, **kwargs):\n",
    "        wrapper.count += 1\n",
    "        res = func(*args, **kwargs)\n",
    "        print (\"{0} была вызвана: {1}x\".format(func.__name__, wrapper.count))\n",
    "        return res\n",
    "    wrapper.count = 0\n",
    "    return wrapper\n",
    "\n",
    "\n",
    "@benchmark\n",
    "@logging\n",
    "@counter\n",
    "def reverse_string(string):\n",
    "    return string[::-1]\n",
    " \n",
    "print (reverse_string(\"А роза упала на лапу Азора\"))\n",
    "# print (reverse_string(\"A man, a plan, a canoe, pasta, heros, rajahs, a coloratura, maps, snipe, percale, macaroni, a gag, a banana bag, a tan, a tag, a banana bag again (or a camel), a crepe, pins, Spam, a rut, a Rolo, cash, a jar, sore hats, a peon, a canal: Panama!\"))\n"
   ]
  },
  {
   "cell_type": "code",
   "execution_count": null,
   "metadata": {
    "colab": {},
    "colab_type": "code",
    "id": "kJtPc5ErqtDX",
    "outputId": "1c4b444a-3106-43e1-fa91-47fad0944cbd"
   },
   "outputs": [],
   "source": [
    "print (reverse_string(\"А роза упала на лапу Азора\"))"
   ]
  },
  {
   "cell_type": "code",
   "execution_count": null,
   "metadata": {
    "colab": {},
    "colab_type": "code",
    "id": "TddcFn7LqtDj"
   },
   "outputs": [],
   "source": [
    "def fun(a1,a2,a3,a4,a5, **kwargs):\n",
    "    print(kwargs)\n",
    "#     print(args)\n",
    "    return sum([a1,a2,a3,a4,a5])"
   ]
  },
  {
   "cell_type": "code",
   "execution_count": null,
   "metadata": {
    "colab": {},
    "colab_type": "code",
    "id": "jdaJq1m7qtDm",
    "outputId": "7ede2951-d3e6-43db-e9a7-41746e7082bd"
   },
   "outputs": [],
   "source": [
    "a = [1,2,3,4,5]\n",
    "b = {\n",
    "    'ASSSd':123,\n",
    "    '44':3\n",
    "}\n",
    "fun(*a, **b)"
   ]
  },
  {
   "cell_type": "code",
   "execution_count": null,
   "metadata": {
    "colab": {},
    "colab_type": "code",
    "id": "5IPK1nZyqtDr",
    "outputId": "ddd7a557-8fa7-4b41-b99a-4ea1cc74eef2"
   },
   "outputs": [],
   "source": [
    "a1,a2,a3,a4 = a\n",
    "print(a)\n",
    "pr"
   ]
  },
  {
   "cell_type": "code",
   "execution_count": null,
   "metadata": {
    "colab": {},
    "colab_type": "code",
    "id": "3CyWbXB9qtDy"
   },
   "outputs": [],
   "source": []
  }
 ],
 "metadata": {
  "colab": {
   "name": "Декораторы.ipynb",
   "provenance": [],
   "version": "0.3.2"
  },
  "kernelspec": {
   "display_name": "Python 3",
   "language": "python",
   "name": "python3"
  },
  "language_info": {
   "codemirror_mode": {
    "name": "ipython",
    "version": 3
   },
   "file_extension": ".py",
   "mimetype": "text/x-python",
   "name": "python",
   "nbconvert_exporter": "python",
   "pygments_lexer": "ipython3",
   "version": "3.7.7"
  }
 },
 "nbformat": 4,
 "nbformat_minor": 4
}
