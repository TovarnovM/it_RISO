{
 "cells": [
  {
   "cell_type": "markdown",
   "metadata": {},
   "source": [
    "## Введение в функциональное программирование"
   ]
  },
  {
   "cell_type": "markdown",
   "metadata": {},
   "source": [
    "[*Википедия*](https://ru.wikipedia.org/wiki/%D0%A4%D1%83%D0%BD%D0%BA%D1%86%D0%B8%D0%BE%D0%BD%D0%B0%D0%BB%D1%8C%D0%BD%D0%BE%D0%B5_%D0%BF%D1%80%D0%BE%D0%B3%D1%80%D0%B0%D0%BC%D0%BC%D0%B8%D1%80%D0%BE%D0%B2%D0%B0%D0%BD%D0%B8%D0%B5):\n",
    "\n",
    "**Функциона́льное программи́рование** — раздел дискретной математики и парадигма программирования, в которой процесс вычисления трактуется как вычисление значений функций в математическом понимании последних (в отличие от функций как подпрограмм в процедурном программировании)."
   ]
  },
  {
   "cell_type": "markdown",
   "metadata": {},
   "source": [
    "=====================================================\n",
    "\n",
    "\n",
    "Функциональный код отличается одним свойством: отсутствием побочных эффектов. Он не полагается на данные вне текущей функции, и не меняет данные, находящиеся вне функции. Все остальные «свойства» можно вывести из этого. "
   ]
  },
  {
   "cell_type": "markdown",
   "metadata": {},
   "source": [
    "\"Нефункциональная\" функция:"
   ]
  },
  {
   "cell_type": "code",
   "execution_count": 1,
   "metadata": {},
   "outputs": [],
   "source": [
    "a = 0\n",
    "def increment1():\n",
    "    global a\n",
    "    a += 1\n",
    "    print(a)"
   ]
  },
  {
   "cell_type": "code",
   "execution_count": null,
   "metadata": {},
   "outputs": [],
   "source": []
  },
  {
   "cell_type": "code",
   "execution_count": null,
   "metadata": {},
   "outputs": [],
   "source": []
  },
  {
   "cell_type": "code",
   "execution_count": null,
   "metadata": {},
   "outputs": [],
   "source": []
  },
  {
   "cell_type": "code",
   "execution_count": null,
   "metadata": {},
   "outputs": [],
   "source": []
  },
  {
   "cell_type": "code",
   "execution_count": null,
   "metadata": {},
   "outputs": [],
   "source": []
  },
  {
   "cell_type": "code",
   "execution_count": null,
   "metadata": {},
   "outputs": [],
   "source": []
  },
  {
   "cell_type": "code",
   "execution_count": null,
   "metadata": {},
   "outputs": [],
   "source": []
  },
  {
   "cell_type": "code",
   "execution_count": null,
   "metadata": {},
   "outputs": [],
   "source": []
  },
  {
   "cell_type": "code",
   "execution_count": null,
   "metadata": {},
   "outputs": [],
   "source": []
  },
  {
   "cell_type": "code",
   "execution_count": null,
   "metadata": {},
   "outputs": [],
   "source": []
  },
  {
   "cell_type": "code",
   "execution_count": null,
   "metadata": {},
   "outputs": [],
   "source": []
  },
  {
   "cell_type": "code",
   "execution_count": null,
   "metadata": {},
   "outputs": [],
   "source": []
  },
  {
   "cell_type": "code",
   "execution_count": null,
   "metadata": {},
   "outputs": [],
   "source": []
  },
  {
   "cell_type": "code",
   "execution_count": null,
   "metadata": {},
   "outputs": [],
   "source": []
  },
  {
   "cell_type": "code",
   "execution_count": null,
   "metadata": {},
   "outputs": [],
   "source": []
  },
  {
   "cell_type": "code",
   "execution_count": null,
   "metadata": {},
   "outputs": [],
   "source": []
  },
  {
   "cell_type": "code",
   "execution_count": null,
   "metadata": {},
   "outputs": [],
   "source": []
  },
  {
   "cell_type": "code",
   "execution_count": null,
   "metadata": {},
   "outputs": [],
   "source": []
  },
  {
   "cell_type": "code",
   "execution_count": null,
   "metadata": {},
   "outputs": [],
   "source": []
  },
  {
   "cell_type": "code",
   "execution_count": null,
   "metadata": {},
   "outputs": [],
   "source": []
  },
  {
   "cell_type": "code",
   "execution_count": null,
   "metadata": {},
   "outputs": [],
   "source": []
  },
  {
   "cell_type": "code",
   "execution_count": null,
   "metadata": {},
   "outputs": [],
   "source": []
  },
  {
   "cell_type": "code",
   "execution_count": 7,
   "metadata": {},
   "outputs": [
    {
     "name": "stdout",
     "output_type": "stream",
     "text": [
      "6\n"
     ]
    }
   ],
   "source": [
    "increment1()"
   ]
  },
  {
   "cell_type": "markdown",
   "metadata": {},
   "source": [
    "\"Функциональная\" функция:"
   ]
  },
  {
   "cell_type": "code",
   "execution_count": 8,
   "metadata": {},
   "outputs": [],
   "source": [
    "def increment2(a):\n",
    "    return a + 1"
   ]
  },
  {
   "cell_type": "code",
   "execution_count": 15,
   "metadata": {},
   "outputs": [
    {
     "data": {
      "text/plain": [
       "13"
      ]
     },
     "execution_count": 15,
     "metadata": {},
     "output_type": "execute_result"
    }
   ],
   "source": [
    "increment2(12)"
   ]
  },
  {
   "cell_type": "code",
   "execution_count": 37,
   "metadata": {},
   "outputs": [],
   "source": [
    "lst = (i for i in range(20))"
   ]
  },
  {
   "cell_type": "code",
   "execution_count": 19,
   "metadata": {},
   "outputs": [
    {
     "data": {
      "text/plain": [
       "generator"
      ]
     },
     "execution_count": 19,
     "metadata": {},
     "output_type": "execute_result"
    }
   ],
   "source": [
    "type(lst)"
   ]
  },
  {
   "cell_type": "code",
   "execution_count": 36,
   "metadata": {},
   "outputs": [],
   "source": [
    "for i in lst:\n",
    "    print(i)\n",
    "    if i > 12:\n",
    "        break"
   ]
  },
  {
   "cell_type": "code",
   "execution_count": 38,
   "metadata": {},
   "outputs": [
    {
     "name": "stdout",
     "output_type": "stream",
     "text": [
      "3\n",
      "4\n",
      "5\n",
      "6\n",
      "7\n",
      "8\n"
     ]
    }
   ],
   "source": [
    "class Counter:\n",
    "    def __init__(self, low, high):\n",
    "        self.current = low\n",
    "        self.high = high\n",
    "\n",
    "    def __iter__(self):\n",
    "#         return Counter(self.current, self.high)\n",
    "        return self\n",
    "    \n",
    "    def __next__(self):\n",
    "        # Второй магический метод\n",
    "        if self.current > self.high:\n",
    "            raise StopIteration\n",
    "        else:\n",
    "            self.current += 1\n",
    "        return self.current - 1\n",
    "\n",
    "    def __len__(self):\n",
    "        return 43\n",
    "    \n",
    "for c in Counter(3, 8):\n",
    "    print(c)"
   ]
  },
  {
   "cell_type": "code",
   "execution_count": 44,
   "metadata": {},
   "outputs": [
    {
     "data": {
      "text/plain": [
       "3"
      ]
     },
     "execution_count": 44,
     "metadata": {},
     "output_type": "execute_result"
    }
   ],
   "source": [
    "it = iter(Counter(3, 5))\n",
    "next(it)"
   ]
  },
  {
   "cell_type": "code",
   "execution_count": 47,
   "metadata": {},
   "outputs": [
    {
     "ename": "StopIteration",
     "evalue": "",
     "output_type": "error",
     "traceback": [
      "\u001b[1;31m---------------------------------------------------------------------------\u001b[0m",
      "\u001b[1;31mStopIteration\u001b[0m                             Traceback (most recent call last)",
      "\u001b[1;32m<ipython-input-47-bc1ab118995a>\u001b[0m in \u001b[0;36m<module>\u001b[1;34m\u001b[0m\n\u001b[1;32m----> 1\u001b[1;33m \u001b[0mnext\u001b[0m\u001b[1;33m(\u001b[0m\u001b[0mit\u001b[0m\u001b[1;33m)\u001b[0m\u001b[1;33m\u001b[0m\u001b[1;33m\u001b[0m\u001b[0m\n\u001b[0m",
      "\u001b[1;32m<ipython-input-38-95b88827fb4e>\u001b[0m in \u001b[0;36m__next__\u001b[1;34m(self)\u001b[0m\n\u001b[0;32m     10\u001b[0m         \u001b[1;31m# Второй магический метод\u001b[0m\u001b[1;33m\u001b[0m\u001b[1;33m\u001b[0m\u001b[1;33m\u001b[0m\u001b[0m\n\u001b[0;32m     11\u001b[0m         \u001b[1;32mif\u001b[0m \u001b[0mself\u001b[0m\u001b[1;33m.\u001b[0m\u001b[0mcurrent\u001b[0m \u001b[1;33m>\u001b[0m \u001b[0mself\u001b[0m\u001b[1;33m.\u001b[0m\u001b[0mhigh\u001b[0m\u001b[1;33m:\u001b[0m\u001b[1;33m\u001b[0m\u001b[1;33m\u001b[0m\u001b[0m\n\u001b[1;32m---> 12\u001b[1;33m             \u001b[1;32mraise\u001b[0m \u001b[0mStopIteration\u001b[0m\u001b[1;33m\u001b[0m\u001b[1;33m\u001b[0m\u001b[0m\n\u001b[0m\u001b[0;32m     13\u001b[0m         \u001b[1;32melse\u001b[0m\u001b[1;33m:\u001b[0m\u001b[1;33m\u001b[0m\u001b[1;33m\u001b[0m\u001b[0m\n\u001b[0;32m     14\u001b[0m             \u001b[0mself\u001b[0m\u001b[1;33m.\u001b[0m\u001b[0mcurrent\u001b[0m \u001b[1;33m+=\u001b[0m \u001b[1;36m1\u001b[0m\u001b[1;33m\u001b[0m\u001b[1;33m\u001b[0m\u001b[0m\n",
      "\u001b[1;31mStopIteration\u001b[0m: "
     ]
    }
   ],
   "source": [
    "next(it)"
   ]
  },
  {
   "cell_type": "markdown",
   "metadata": {},
   "source": [
    "## Map\n",
    "\n",
    "Принимает функцию и набор данных. Создаёт новую коллекцию, выполняет функцию на каждой позиции данных и добавляет возвращаемое значение в новую коллекцию. Возвращает новую коллекцию.\n",
    "\n",
    "`map(function, iterable)`\n",
    "\n",
    "Простой map, принимающий список имён и возвращающий список длин:"
   ]
  },
  {
   "cell_type": "code",
   "execution_count": 49,
   "metadata": {},
   "outputs": [
    {
     "name": "stdout",
     "output_type": "stream",
     "text": [
      "4\n",
      "4\n",
      "3\n"
     ]
    }
   ],
   "source": [
    "name_lengths = map(len, ['Маша', 'Петя', 'Оля'])\n",
    "\n",
    "for nl in name_lengths:\n",
    "    print(nl)"
   ]
  },
  {
   "cell_type": "markdown",
   "metadata": {},
   "source": [
    "Допустим у нас есть список с такими элементами:\n",
    "\n",
    "`[1, 2, 3, 4, 5]`\n",
    "\n",
    "И мы хотим возвести в квадрат каждый элемент, это можно сделать так:"
   ]
  },
  {
   "cell_type": "code",
   "execution_count": 51,
   "metadata": {},
   "outputs": [
    {
     "name": "stdout",
     "output_type": "stream",
     "text": [
      "1\n",
      "4\n",
      "9\n",
      "16\n",
      "25\n"
     ]
    }
   ],
   "source": [
    "x = [1, 2, 3, 4, 5]\n",
    "\n",
    "def square(num):\n",
    "    return num*num\n",
    "\n",
    "\n",
    "for nl in map(square, x):\n",
    "    print(nl)"
   ]
  },
  {
   "cell_type": "code",
   "execution_count": 52,
   "metadata": {},
   "outputs": [
    {
     "data": {
      "text/plain": [
       "[1, 4, 9, 16, 25]"
      ]
     },
     "execution_count": 52,
     "metadata": {},
     "output_type": "execute_result"
    }
   ],
   "source": [
    "list( map(square, x) )  "
   ]
  },
  {
   "cell_type": "markdown",
   "metadata": {},
   "source": [
    "### Lambda выражения\n",
    "\n",
    "Lambda выражения это функции в одну строчку, например, вот lambda выражение, которое возводит в квадрат полученное число:"
   ]
  },
  {
   "cell_type": "code",
   "execution_count": 53,
   "metadata": {},
   "outputs": [
    {
     "data": {
      "text/plain": [
       "9"
      ]
     },
     "execution_count": 53,
     "metadata": {},
     "output_type": "execute_result"
    }
   ],
   "source": [
    "square = lambda x: x*x\n",
    "\n",
    "square(3)"
   ]
  },
  {
   "cell_type": "markdown",
   "metadata": {},
   "source": [
    "Этот map возводит в квадрат каждый элемент:"
   ]
  },
  {
   "cell_type": "code",
   "execution_count": 54,
   "metadata": {},
   "outputs": [
    {
     "data": {
      "text/plain": [
       "[0, 1, 4, 9, 16]"
      ]
     },
     "execution_count": 54,
     "metadata": {},
     "output_type": "execute_result"
    }
   ],
   "source": [
    "squares = map(lambda x: x*x,  [0, 1, 2, 3, 4])\n",
    "\n",
    "list(squares)"
   ]
  },
  {
   "cell_type": "markdown",
   "metadata": {},
   "source": [
    "Он не принимает именованную функцию, а берёт анонимную, определённую через lambda. Параметры lambda определены слева от двоеточия. Тело функции – справа. Результат возвращается неявным образом.\n",
    "\n",
    "Нефункциональный код в следующем примере принимает список имён и заменяет их случайными прозвищами."
   ]
  },
  {
   "cell_type": "code",
   "execution_count": 68,
   "metadata": {},
   "outputs": [
    {
     "name": "stdout",
     "output_type": "stream",
     "text": [
      "['Фунтик', 'Винтик', 'Фунтик']\n"
     ]
    }
   ],
   "source": [
    "import random\n",
    "\n",
    "names = ['Маша', 'Петя', 'Вася']\n",
    "code_names = ['Шпунтик', 'Винтик', 'Фунтик']\n",
    "\n",
    "for i in range(len(names)):\n",
    "    names[i] = random.choice(code_names)\n",
    "\n",
    "print(names)"
   ]
  },
  {
   "cell_type": "markdown",
   "metadata": {},
   "source": [
    "Перепишем это через map:"
   ]
  },
  {
   "cell_type": "code",
   "execution_count": 69,
   "metadata": {},
   "outputs": [
    {
     "name": "stdout",
     "output_type": "stream",
     "text": [
      "['Шпунтик', 'Винтик', 'Винтик']\n"
     ]
    }
   ],
   "source": [
    "import random\n",
    "\n",
    "names = ['Маша', 'Петя', 'Вася']\n",
    "\n",
    "secret_names = map(lambda x: random.choice(['Шпунтик', 'Винтик', 'Фунтик']), names)\n",
    "print(list(secret_names))"
   ]
  },
  {
   "cell_type": "markdown",
   "metadata": {},
   "source": [
    "## Reduce\n",
    "\n",
    "Reduce принимает функцию и набор пунктов. Возвращает значение, получаемое комбинированием всех пунктов.\n",
    "\n",
    "Пример простого reduce. Возвращает сумму всех пунктов в наборе:"
   ]
  },
  {
   "cell_type": "code",
   "execution_count": 72,
   "metadata": {},
   "outputs": [
    {
     "name": "stdout",
     "output_type": "stream",
     "text": [
      "30\n"
     ]
    }
   ],
   "source": [
    "from functools import reduce\n",
    "\n",
    "def foo(a, x):\n",
    "#     print(a, x)\n",
    "    return a + 2*x\n",
    "\n",
    "summ = reduce(foo, [0, 1, 2, 3, 4], 10)\n",
    "\n",
    "print(summ)"
   ]
  },
  {
   "cell_type": "markdown",
   "metadata": {},
   "source": [
    "x – текущий пункт, а – аккумулятор. Это значение, которое возвращает выполнение lambda на предыдущем пункте. reduce() перебирает все значения, и запускает для каждого lambda на текущих значениях а и х, и возвращает результат в а для следующей итерации.\n",
    "\n",
    "А чему равно а в первой итерации? Оно равно первому элементу коллекции, и reduce() начинает работать со второго элемента. То есть, первый х будет равен второму предмету набора.\n",
    "\n",
    "Следующий пример считает, как часто слово «капитан» встречается в списке строк:"
   ]
  },
  {
   "cell_type": "code",
   "execution_count": 73,
   "metadata": {},
   "outputs": [
    {
     "name": "stdout",
     "output_type": "stream",
     "text": [
      "3\n"
     ]
    }
   ],
   "source": [
    "sentences = ['капитан джек воробей',\n",
    "             'капитан дальнего плавания',\n",
    "             'ваша лодка готова, капитан']\n",
    "\n",
    "cap_count = 0\n",
    "for sentence in sentences:\n",
    "    cap_count += sentence.count('капитан')\n",
    "\n",
    "print(cap_count)"
   ]
  },
  {
   "cell_type": "markdown",
   "metadata": {},
   "source": [
    "Тот же код с использованием reduce:"
   ]
  },
  {
   "cell_type": "code",
   "execution_count": 74,
   "metadata": {},
   "outputs": [
    {
     "name": "stdout",
     "output_type": "stream",
     "text": [
      "3\n"
     ]
    }
   ],
   "source": [
    "sentences = ['капитан джек воробей',\n",
    "             'капитан дальнего плавания',\n",
    "             'ваша лодка готова, капитан']\n",
    "\n",
    "cap_count = reduce(lambda a, x: a + x.count('капитан'),\n",
    "                   sentences,\n",
    "                   0)\n",
    "print(cap_count)"
   ]
  },
  {
   "cell_type": "markdown",
   "metadata": {},
   "source": [
    "А откуда здесь берётся начальное значение а? Оно не может быть вычислено из количества повторений в первой строке. Поэтому оно задаётся как третий аргумент функции reduce()."
   ]
  },
  {
   "cell_type": "markdown",
   "metadata": {},
   "source": [
    "## Filter"
   ]
  },
  {
   "cell_type": "markdown",
   "metadata": {},
   "source": [
    "Filter принимает функцию и коллекцию. Возвращает коллекцию тех вещей, для которых функция возвращает True"
   ]
  },
  {
   "cell_type": "code",
   "execution_count": 75,
   "metadata": {},
   "outputs": [
    {
     "name": "stdout",
     "output_type": "stream",
     "text": [
      "[111, 44, 55]\n"
     ]
    }
   ],
   "source": [
    "more33 = filter(lambda x: x > 33, [0,1,111,33,44,55])\n",
    "print(list(more33))"
   ]
  },
  {
   "cell_type": "code",
   "execution_count": 76,
   "metadata": {},
   "outputs": [
    {
     "data": {
      "text/plain": [
       "120.0"
      ]
     },
     "execution_count": 76,
     "metadata": {},
     "output_type": "execute_result"
    }
   ],
   "source": [
    "people = [\n",
    "    {'имя': 'Маша', 'рост': 160},\n",
    "    {' рост ': 'Саша', 'рост': 80},\n",
    "    {'name': 'Паша'}]\n",
    "\n",
    "heights = map(lambda x: x['рост'], \n",
    "              filter(lambda x: 'рост' in x, \n",
    "                     people))\n",
    "\n",
    "heights = list(heights)\n",
    "\n",
    "if heights:\n",
    "    from operator import add\n",
    "    average_height = reduce(add, heights) / len(heights)\n",
    "average_height"
   ]
  },
  {
   "cell_type": "code",
   "execution_count": null,
   "metadata": {},
   "outputs": [],
   "source": [
    "if []:\n",
    "    print('True')"
   ]
  },
  {
   "cell_type": "markdown",
   "metadata": {},
   "source": [
    "## Есть и альтернативы\n",
    "\n",
    "Помимо стандартных функция `map/filter...` и стандартного пакета `functools`\n",
    "\n",
    "Есть и сторонние пакеты, упрощающие написание функционального кода\n",
    "\n",
    "Например `PyFunctional`\n",
    "\n",
    "```bash\n",
    "# Установить пакет\n",
    "```\n",
    "```bash\n",
    "$ pip install pyfunctional\n",
    "```"
   ]
  },
  {
   "cell_type": "code",
   "execution_count": 77,
   "metadata": {},
   "outputs": [
    {
     "data": {
      "text/plain": [
       "'1.4.1'"
      ]
     },
     "execution_count": 77,
     "metadata": {},
     "output_type": "execute_result"
    }
   ],
   "source": [
    "import functional\n",
    "\n",
    "functional.__version__"
   ]
  },
  {
   "cell_type": "code",
   "execution_count": 81,
   "metadata": {},
   "outputs": [
    {
     "data": {
      "text/plain": [
       "14"
      ]
     },
     "execution_count": 81,
     "metadata": {},
     "output_type": "execute_result"
    }
   ],
   "source": [
    "from functional import seq\n",
    "\n",
    "seq([1, 2, 3, 4]).map(lambda x: x * 2).filter(lambda x: x > 4).reduce(lambda x, y: x + y)"
   ]
  },
  {
   "cell_type": "code",
   "execution_count": 84,
   "metadata": {},
   "outputs": [
    {
     "data": {
      "text/plain": [
       "14"
      ]
     },
     "execution_count": 84,
     "metadata": {},
     "output_type": "execute_result"
    }
   ],
   "source": [
    "seq(1, 2, 3, 4) \\\n",
    "    .map(lambda x: x * 2) \\\n",
    "    .filter(lambda x: x > 4) \\\n",
    "    .reduce(lambda x, y: x + y) "
   ]
  },
  {
   "cell_type": "code",
   "execution_count": 86,
   "metadata": {},
   "outputs": [
    {
     "data": {
      "text/plain": [
       "25"
      ]
     },
     "execution_count": 86,
     "metadata": {},
     "output_type": "execute_result"
    }
   ],
   "source": [
    "from functional import seq\n",
    "from collections import namedtuple\n",
    "\n",
    "Transaction = namedtuple('Transaction', 'reason amount')\n",
    "transactions = [\n",
    "    Transaction('github', 7),\n",
    "    Transaction('food', 10),\n",
    "    Transaction('coffee', 5),\n",
    "    Transaction('digitalocean', 5),\n",
    "    Transaction('food', 5),\n",
    "    Transaction('riotgames', 25),\n",
    "    Transaction('food', 10),\n",
    "    Transaction('amazon', 200),\n",
    "    Transaction('paycheck', -1000)\n",
    "]\n",
    "\n",
    "food_cost = seq(transactions)\\\n",
    "    .filter(lambda x: x.reason == 'food')\\\n",
    "    .map(lambda x: x.amount) \\\n",
    "    .sum()\n",
    "\n",
    "# Using the LINQ inspired APIs\n",
    "food_cost = seq(transactions)\\\n",
    "    .where(lambda x: x.reason == 'food')\\\n",
    "    .select(lambda x: x.amount).sum()\n",
    "\n",
    "\n",
    "food_cost"
   ]
  },
  {
   "cell_type": "code",
   "execution_count": 89,
   "metadata": {},
   "outputs": [
    {
     "data": {
      "text/plain": [
       "('123', 1, '123', 1)"
      ]
     },
     "execution_count": 89,
     "metadata": {},
     "output_type": "execute_result"
    }
   ],
   "source": [
    "('123', 1) + ('123', 1)"
   ]
  },
  {
   "cell_type": "code",
   "execution_count": 88,
   "metadata": {},
   "outputs": [
    {
     "data": {
      "text/plain": [
       "[('I', 2), ('dont', 1), ('want', 2), ('to', 2), ('believe', 1), ('know', 1)]"
      ]
     },
     "execution_count": 88,
     "metadata": {},
     "output_type": "execute_result"
    }
   ],
   "source": [
    "words = 'I dont want to believe I want to know'.split(' ')\n",
    "seq(words).map(lambda word: (word, 1)).reduce_by_key(lambda x, y: x + y).to_list()"
   ]
  },
  {
   "cell_type": "markdown",
   "metadata": {},
   "source": [
    "| Function | Description | Type |\n",
    "| :------- | :-----------: | :--- |\n",
    "|`map(func)/select(func)` | Maps `func` onto elements of sequence | transformation|\n",
    "|`starmap(func)/smap(func)` | Apply `func` to sequence with `itertools.starmap` | transformation|\n",
    "|`filter(func)/where(func)` | Filters elements of sequence to only those where `func(element)` is `True` | transformation|\n",
    "|`filter_not(func)` | Filters elements of sequence to only those where `func(element)` is `False` | transformation|\n",
    "|`flatten()` | Flattens sequence of lists to a single sequence | transformation|\n",
    "|`flat_map(func)` | `func` must return an iterable. Maps `func` to each element, then merges the result to one flat sequence | transformation|\n",
    "|`group_by(func)` | Groups sequence into `(key, value)` pairs where `key=func(element)` and `value` is from the original sequence | transformation|\n",
    "|`group_by_key()` | Groups sequence of `(key, value)` pairs by `key` | transformation|\n",
    "|`reduce_by_key(func)` | Reduces list of `(key, value)` pairs using `func` | transformation|\n",
    "|`count_by_key()` | Counts occurrences of each `key` in list of `(key, value)` pairs | transformation|\n",
    "|`count_by_value()` | Counts occurrence of each value in a list | transformation|\n",
    "|`union(other)` | Union of unique elements in sequence and `other` | transformation|\n",
    "|`intersection(other)` | Intersection of unique elements in sequence and `other` | transformation|\n",
    "|`difference(other)` | New sequence with unique elements present in sequence but not in `other` | transformation|\n",
    "|`symmetric_difference(other)` | New sequence with unique elements present in sequence or `other`, but not both | transformation|\n",
    "|`distinct()` | Returns distinct elements of sequence. Elements must be hashable | transformation|\n",
    "|`distinct_by(func)` | Returns distinct elements of sequence using `func` as a key | transformation|\n",
    "|`drop(n)` | Drop the first `n` elements of the sequence | transformation|\n",
    "|`drop_right(n)` | Drop the last `n` elements of the sequence | transformation|\n",
    "|`drop_while(func)` | Drop elements while `func` evaluates to `True`, then returns the rest | transformation|\n",
    "|`take(n)` | Returns sequence of first `n` elements | transformation|\n",
    "|`take_while(func)` | Take elements while `func` evaluates to `True`, then drops the rest | transformation|\n",
    "|`init()` | Returns sequence without the last element | transformation|\n",
    "|`tail()` | Returns sequence without the first element | transformation|\n",
    "|`inits()` | Returns consecutive inits of sequence | transformation|\n",
    "|`tails()` | Returns consecutive tails of sequence | transformation|\n",
    "|`zip(other)` | Zips the sequence with `other` | transformation|\n",
    "|`zip_with_index(start=0)` | Zips the sequence with the index starting at `start` on the right side | transformation|\n",
    "|`enumerate(start=0)` | Zips the sequence with the index starting at `start` on the left side | transformation|\n",
    "|`cartesian(*iterables, repeat=1)` | Returns cartesian product from itertools.product | transformation|\n",
    "|`inner_join(other)` | Returns inner join of sequence with other. Must be a sequence of `(key, value)` pairs | transformation|\n",
    "|`outer_join(other)` | Returns outer join of sequence with other. Must be a sequence of `(key, value)` pairs | transformation|\n",
    "|`left_join(other)` | Returns left join of sequence with other. Must be a sequence of `(key, value)` pairs | transformation|\n",
    "|`right_join(other)` | Returns right join of sequence with other. Must be a sequence of `(key, value)` pairs | transformation|\n",
    "|`join(other, join_type='inner')` | Returns join of sequence with other as specified by `join_type`. Must be a sequence of `(key, value)` pairs | transformation|\n",
    "|`partition(func)` | Partitions the sequence into elements which satisfy `func(element)` and those that don't | transformation|\n",
    "|`grouped(size)` | Partitions the elements into groups of size `size` | transformation|\n",
    "|`sorted(key=None, reverse=False)/order_by(func)` | Returns elements sorted according to python `sorted` | transformation|\n",
    "|`reverse()` | Returns the reversed sequence | transformation|\n",
    "|`slice(start, until)` | Sequence starting at `start` and including elements up to `until` | transformation|\n",
    "|`head()` / `first()` | Returns first element in sequence | action|\n",
    "|`head_option()` | Returns first element in sequence or `None` if its empty | action|\n",
    "|`last()` | Returns last element in sequence | action|\n",
    "|`last_option()` | Returns last element in sequence or `None` if its empty | action|\n",
    "|`len()` / `size()` | Returns length of sequence | action|\n",
    "|`count(func)` | Returns count of elements in sequence where `func(element)` is True | action|\n",
    "|`empty()` | Returns `True` if the sequence has zero length | action|\n",
    "|`non_empty()` | Returns `True` if sequence has non-zero length | action|\n",
    "|`all()` | Returns `True` if all elements in sequence are truthy | action|\n",
    "|`exists(func)` | Returns `True` if `func(element)` for any element in the sequence is `True` | action|\n",
    "|`for_all(func)` | Returns `True` if `func(element)` is `True` for all elements in the sequence | action|\n",
    "|`find(func)` | Returns the element that first evaluates `func(element)` to `True` | action|\n",
    "|`any()` | Returns `True` if any element in sequence is truthy | action|\n",
    "|`max()` | Returns maximal element in sequence | action|\n",
    "|`min()` | Returns minimal element in sequence | action|\n",
    "|`max_by(func)` | Returns element with maximal value `func(element)` | action|\n",
    "|`min_by(func)` | Returns element with minimal value `func(element)` | action|\n",
    "|`sum()/sum(projection)` | Returns the sum of elements possibly using a projection | action|\n",
    "|`product()/product(projection)` | Returns the product of elements possibly using a projection | action|\n",
    "|`average()/average(projection)` | Returns the average of elements possibly using a projection | action|\n",
    "|`aggregate(func)/aggregate(seed, func)/aggregate(seed, func, result_map)` | Aggregate using `func` starting with `seed` or first element of list then apply `result_map` to the result | action|\n",
    "|`fold_left(zero_value, func)` | Reduces element from left to right using `func` and initial value `zero_value` | action|\n",
    "|`fold_right(zero_value, func)` | Reduces element from right to left using `func` and initial value `zero_value` | action|\n",
    "|`make_string(separator)` | Returns string with `separator` between each `str(element)` | action|\n",
    "|`dict(default=None)` / `to_dict(default=None)` | Converts a sequence of `(Key, Value)` pairs to a `dictionary`. If |`default` is not None, it must be a value or zero argument callable which will be used to create a `collections.defaultdict` | action|\n",
    "|`list()` / `to_list()` | Converts sequence to a list | action|\n",
    "|`set() / to_set()` | Converts sequence to a set | action|\n",
    "|`to_file(path)` | Saves the sequence to a file at path with each element on a newline | action|\n",
    "|`to_csv(path)` | Saves the sequence to a csv file at path with each element representing a row | action|\n",
    "|`to_jsonl(path)` | Saves the sequence to a jsonl file with each element being transformed to json and printed to a new line | action|\n",
    "|`to_json(path)` | Saves the sequence to a json file. The contents depend on if the json root is an array or dictionary | action|\n",
    "|`to_sqlite3(conn, tablename_or_query, *args, **kwargs)` | Save the sequence to a SQLite3 db. The target table must be created in advance. | action|\n",
    "|`to_pandas(columns=None)` | Converts the sequence to a pandas DataFrame | action|\n",
    "|`cache()` | Forces evaluation of sequence immediately and caches the result | action|\n",
    "|`for_each(func)` | Executes `func` on each element of the sequence | action|"
   ]
  },
  {
   "cell_type": "markdown",
   "metadata": {},
   "source": [
    "## А вообще....\n",
    "\n",
    "Отличное видео про функциональный подход в програмировании (**ОСТОРОЖНО АНГЛИЙСКИЙ!**):"
   ]
  },
  {
   "cell_type": "code",
   "execution_count": 90,
   "metadata": {},
   "outputs": [
    {
     "data": {
      "image/jpeg": "[encoded data removed]",
      "text/html": [
       "\n",
       "        <iframe\n",
       "            width=\"800\"\n",
       "            height=\"600\"\n",
       "            src=\"https://www.youtube.com/embed/PLFl95c-IiU\"\n",
       "            frameborder=\"0\"\n",
       "            allowfullscreen\n",
       "        ></iframe>\n",
       "        "
      ],
      "text/plain": [
       "<IPython.lib.display.YouTubeVideo at 0x2102cdc7e20>"
      ]
     },
     "execution_count": 90,
     "metadata": {},
     "output_type": "execute_result"
    }
   ],
   "source": [
    "from IPython.display import YouTubeVideo\n",
    "\n",
    "video1 = 'PLFl95c-IiU'\n",
    "# video1 = 'dQw4w9WgXcQ'\n",
    "\n",
    "YouTubeVideo(video1, width=800, height=600)"
   ]
  },
  {
   "cell_type": "code",
   "execution_count": null,
   "metadata": {},
   "outputs": [],
   "source": []
  }
 ],
 "metadata": {
  "kernelspec": {
   "display_name": "Python 3",
   "language": "python",
   "name": "python3"
  },
  "language_info": {
   "codemirror_mode": {
    "name": "ipython",
    "version": 3
   },
   "file_extension": ".py",
   "mimetype": "text/x-python",
   "name": "python",
   "nbconvert_exporter": "python",
   "pygments_lexer": "ipython3",
   "version": "3.8.5"
  }
 },
 "nbformat": 4,
 "nbformat_minor": 4
}
